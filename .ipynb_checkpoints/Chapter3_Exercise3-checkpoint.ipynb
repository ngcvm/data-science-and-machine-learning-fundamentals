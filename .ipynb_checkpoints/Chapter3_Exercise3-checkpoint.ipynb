{
 "cells": [
  {
   "cell_type": "markdown",
   "metadata": {},
   "source": [
    "# Chapter 3 - Exercise 3\n"
   ]
  },
  {
   "cell_type": "markdown",
   "metadata": {},
   "source": [
    "### Các kiến thức sử dụng trong bài tập:\n",
    "\n",
    "##### Các xử lý trên mảng 2 chiều\n",
    "1. Biến đổi chiều của mảng (vd; mảng 1 chiều --> mảng 2 chiều): **reshape**\n",
    "2. Tạo mảng với tất cả các phần tử có giá trị là 1\n",
    "3. Thay đổi thứ tự các dòng trong mảng\n",
    "4. Thay đổi thứ tự các cột trong mảng\n",
    "5. Đảo ngược các dòng trong mảng\n",
    "6. Đảo ngược các cột trong mảng\n",
    "7. Kiểm tra xem trong mảng có phần tử Nan (Null) hay không: **isnan**\n"
   ]
  },
  {
   "cell_type": "markdown",
   "metadata": {},
   "source": [
    "### Thực hiện các yêu cầu sau đây và đối chiếu với kết quả cho trước:"
   ]
  },
  {
   "cell_type": "code",
   "execution_count": 131,
   "metadata": {},
   "outputs": [],
   "source": [
    "import numpy as np"
   ]
  },
  {
   "cell_type": "code",
   "execution_count": 132,
   "metadata": {},
   "outputs": [
    {
     "name": "stdout",
     "output_type": "stream",
     "text": [
      "[[ True  True  True]\n",
      " [ True  True  True]\n",
      " [ True  True  True]]\n"
     ]
    }
   ],
   "source": [
    "# Câu 1: Tạo array arr có kích thước 3x3 với tất cả các giá trị đều là True. \n",
    "arr = np.full((3, 3), True)\n",
    "# Hiển thị các phần tử của array arr\n",
    "print(arr)\n"
   ]
  },
  {
   "cell_type": "markdown",
   "metadata": {},
   "source": [
    "<details>\n",
    "  <summary>Nhấn vào đây để xem kết quả !</summary>\n",
    "  \n",
    "  <pre>[[ True  True  True]\n",
    " [ True  True  True]\n",
    " [ True  True  True]]\n",
    "</pre>\n",
    "\n",
    "</details>"
   ]
  },
  {
   "cell_type": "code",
   "execution_count": 133,
   "metadata": {},
   "outputs": [
    {
     "name": "stdout",
     "output_type": "stream",
     "text": [
      "[0 1 2 3 4 5 6 7 8]\n",
      "[[0 1 2]\n",
      " [3 4 5]\n",
      " [6 7 8]]\n",
      "[[2 1 0]\n",
      " [5 4 3]\n",
      " [8 7 6]]\n"
     ]
    }
   ],
   "source": [
    "# Câu 2: Cho array arr_1D = np.array([0 1 2 3 4 5 6 7 8]). \n",
    "arr_1D = np.array([0,1,2,3,4,5,6,7,8])\n",
    "print(arr_1D)\n",
    "# Hãy chuyển thành array 2 chiều có kích thước 3x3 và lưu vào arr_2D.\n",
    "arr_2D = np.reshape(arr_1D, (3,3))\n",
    "\n",
    "# Xem danh sách các phần tử của arr_2D. \n",
    "print(arr_2D)\n",
    "\n",
    "# Trong arr_2D. Chuyển cột 1 sang cột 3 và ngược lại. => Xem lại danh sách các phần tử của arr_2D\n",
    "arr_2D[:, [2,0]] = arr_2D[:, [0,2]]\n",
    "print(arr_2D)\n"
   ]
  },
  {
   "cell_type": "markdown",
   "metadata": {},
   "source": [
    "<details>\n",
    "  <summary>Nhấn vào đây để xem kết quả !</summary>\n",
    "  \n",
    " <pre>[0 1 2 3 4 5 6 7 8] \n",
    "\n",
    "[[0 1 2]\n",
    " [3 4 5]\n",
    " [6 7 8]] \n",
    "\n",
    "[[2 1 0]\n",
    " [5 4 3]\n",
    " [8 7 6]]\n",
    "</pre>\n",
    "\n",
    "</details>"
   ]
  },
  {
   "cell_type": "code",
   "execution_count": 134,
   "metadata": {},
   "outputs": [
    {
     "name": "stdout",
     "output_type": "stream",
     "text": [
      "[[5 4 3]\n",
      " [2 1 0]\n",
      " [8 7 6]]\n"
     ]
    }
   ],
   "source": [
    "# Câu 3: Sử dụng array arr_2D của câu 2 (sau khi đổi thứ tự cột), chuyển dòng 1 sang dòng 2 và ngược lại \n",
    "arr_2D[[0, 1], :] = arr_2D[[1,0], :]\n",
    "# Xem lại danh sách các phần tử của arr_2D\n",
    "print(arr_2D)"
   ]
  },
  {
   "cell_type": "markdown",
   "metadata": {},
   "source": [
    "<details>\n",
    "  <summary>Nhấn vào đây để xem kết quả !</summary>\n",
    "  \n",
    "  <pre>[[5 4 3]\n",
    " [2 1 0]\n",
    " [8 7 6]]\n",
    "</pre>\n",
    "\n",
    "</details>"
   ]
  },
  {
   "cell_type": "code",
   "execution_count": 135,
   "metadata": {},
   "outputs": [
    {
     "name": "stdout",
     "output_type": "stream",
     "text": [
      "[[8 7 6]\n",
      " [2 1 0]\n",
      " [5 4 3]]\n"
     ]
    }
   ],
   "source": [
    "# Câu 4: Sử dụng array arr_2D của câu 3, Đảo ngược các dòng của array arr_2D \n",
    "arr_2D = np.flipud(arr_2D)\n",
    "# Xem lại danh sách các phần tử của arr_2D\n",
    "print(arr_2D)"
   ]
  },
  {
   "cell_type": "markdown",
   "metadata": {},
   "source": [
    "<details>\n",
    "  <summary>Nhấn vào đây để xem kết quả !</summary>\n",
    "  \n",
    "<pre>[[8 7 6]\n",
    " [2 1 0]\n",
    " [5 4 3]]\n",
    "</pre>\n",
    "\n",
    "</details>"
   ]
  },
  {
   "cell_type": "code",
   "execution_count": 136,
   "metadata": {},
   "outputs": [
    {
     "name": "stdout",
     "output_type": "stream",
     "text": [
      "[[6 7 8]\n",
      " [0 1 2]\n",
      " [3 4 5]]\n"
     ]
    }
   ],
   "source": [
    "# Câu 5: Sử dụng array arr_2D của câu 4, Đảo ngược các cột của array arr_2D => Xem lại danh sách các phần tử của arr_2D\n",
    "arr_2D = np.fliplr(arr_2D)\n",
    "print(arr_2D)\n"
   ]
  },
  {
   "cell_type": "markdown",
   "metadata": {},
   "source": [
    "<details>\n",
    "  <summary>Nhấn vào đây để xem kết quả !</summary>\n",
    "  \n",
    " <pre>[[6 7 8]\n",
    " [0 1 2]\n",
    " [3 4 5]]\n",
    "</pre>\n",
    "\n",
    "</details>"
   ]
  },
  {
   "cell_type": "code",
   "execution_count": 137,
   "metadata": {},
   "outputs": [
    {
     "name": "stdout",
     "output_type": "stream",
     "text": [
      "[[ 1.  2.  3.]\n",
      " [nan  5.  6.]\n",
      " [ 7. nan  9.]\n",
      " [ 4.  5.  6.]]\n",
      "Have nan?:  True\n"
     ]
    }
   ],
   "source": [
    "# Câu 6: Cho arr_2D_null = np.array([[1, 2, 3], [np.NaN, 5, 6], [7, np.NaN, 9], [4, 5, 6]]), \n",
    "arr_2D_null = np.array([[1, 2, 3], [np.NaN, 5, 6], [7, np.NaN, 9], [4, 5, 6]])\n",
    "print(arr_2D_null)\n",
    "# Kiểm tra xem trong array có giá trị rỗng nào không?\n",
    "print('Have nan?: ', np.isnan(np.sum(arr_2D_null)))\n"
   ]
  },
  {
   "cell_type": "markdown",
   "metadata": {},
   "source": [
    "<details>\n",
    "  <summary>Nhấn vào đây để xem kết quả !</summary>\n",
    "  \n",
    " <pre>[[ 1.  2.  3.]\n",
    " [nan  5.  6.]\n",
    " [ 7. nan  9.]\n",
    " [ 4.  5.  6.]] \n",
    "\n",
    "Have nan? :  True\n",
    "</pre>\n",
    "\n",
    "</details>"
   ]
  },
  {
   "cell_type": "code",
   "execution_count": 138,
   "metadata": {},
   "outputs": [
    {
     "name": "stdout",
     "output_type": "stream",
     "text": [
      "Before: \n",
      "[[ 1.  2.  3.]\n",
      " [nan  5.  6.]\n",
      " [ 7. nan  9.]\n",
      " [ 4.  5.  6.]]\n",
      "After: \n",
      "[[1. 2. 3.]\n",
      " [0. 5. 6.]\n",
      " [7. 0. 9.]\n",
      " [4. 5. 6.]]\n"
     ]
    }
   ],
   "source": [
    "# Câu 7: Sử dụng array arr_2D_null của câu 6, thay thế giá trị null bằng 0 => Xem lại danh sách các phần tử của arr_2D_null\n",
    "print('Before: ')\n",
    "print(arr_2D_null)\n",
    "\n",
    "arr_2D_null = np.nan_to_num(x=arr_2D_null, nan=0)\n",
    "\n",
    "print('After: ')\n",
    "print(arr_2D_null)"
   ]
  },
  {
   "cell_type": "markdown",
   "metadata": {},
   "source": [
    "<details>\n",
    "  <summary>Nhấn vào đây để xem kết quả !</summary>\n",
    "  \n",
    "  <pre>Before:\n",
    "[[ 1.  2.  3.]\n",
    " [nan  5.  6.]\n",
    " [ 7. nan  9.]\n",
    " [ 4.  5.  6.]] \n",
    "\n",
    "After:\n",
    "[[1. 2. 3.]\n",
    " [0. 5. 6.]\n",
    " [7. 0. 9.]\n",
    " [4. 5. 6.]]\n",
    "</pre>\n",
    "\n",
    "</details>"
   ]
  },
  {
   "cell_type": "code",
   "execution_count": null,
   "metadata": {},
   "outputs": [],
   "source": []
  }
 ],
 "metadata": {
  "kernelspec": {
   "display_name": "Python 3",
   "language": "python",
   "name": "python3"
  },
  "language_info": {
   "codemirror_mode": {
    "name": "ipython",
    "version": 3
   },
   "file_extension": ".py",
   "mimetype": "text/x-python",
   "name": "python",
   "nbconvert_exporter": "python",
   "pygments_lexer": "ipython3",
   "version": "3.6.8"
  }
 },
 "nbformat": 4,
 "nbformat_minor": 4
}
