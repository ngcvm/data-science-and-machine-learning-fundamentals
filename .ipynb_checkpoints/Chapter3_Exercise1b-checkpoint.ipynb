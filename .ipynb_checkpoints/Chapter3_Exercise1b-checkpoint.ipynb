{
 "cells": [
  {
   "cell_type": "markdown",
   "metadata": {
    "colab_type": "text",
    "id": "dlvl6kiulffy"
   },
   "source": [
    "# Chapter 3 - Exercise 1b: "
   ]
  },
  {
   "cell_type": "markdown",
   "metadata": {},
   "source": [
    "### Các kiến thức sử dụng trong bài tập:\n",
    "\n",
    "\n",
    "#### Các thao tác trên mảng:\n",
    "1. Lấy các phần tử (không trùng) xuất hiện trong cả 2 mảng a và b: hàm **np.intersect1d**\n",
    "2. Lấy các phần tử chỉ xuất hiện trong mảng a và không có trong mảng b: hàm **np.setdiff1d**\n"
   ]
  },
  {
   "cell_type": "markdown",
   "metadata": {},
   "source": [
    "#### Thực hiện các yêu cầu sau và đối chiếu với kết quả cho trước:"
   ]
  },
  {
   "cell_type": "code",
   "execution_count": 2,
   "metadata": {
    "colab": {},
    "colab_type": "code",
    "id": "gr8DM63nlff1"
   },
   "outputs": [],
   "source": [
    "import numpy as np"
   ]
  },
  {
   "cell_type": "code",
   "execution_count": 3,
   "metadata": {
    "colab": {},
    "colab_type": "code",
    "id": "D5K_vpeHlff9"
   },
   "outputs": [
    {
     "name": "stdout",
     "output_type": "stream",
     "text": [
      "[2 4]\n"
     ]
    }
   ],
   "source": [
    "# Câu 1: Cho 2 array arr_a = [1,2,3,2,3,4,3,4,5,6] và arr_b = [7,2,10,2,7,4,9,4,9,8]\n",
    "arr_a = [1,2,3,2,3,4,3,4,5,6]\n",
    "arr_b = [7,2,10,2,7,4,9,4,9,8]\n",
    "# Tạo array mới arr_c chỉ lấy duy nhất các phần tử xuất hiện ở cả array arr_a và array arr_b\n",
    "arr_c = np.intersect1d(arr_a, arr_b)\n",
    "print(arr_c)"
   ]
  },
  {
   "cell_type": "markdown",
   "metadata": {},
   "source": [
    "<details>\n",
    "  <summary>Nhấn vào đây để xem kết quả !</summary>\n",
    "  \n",
    " <pre>[2 4]\n",
    "</pre>\n",
    "\n",
    "</details>"
   ]
  },
  {
   "cell_type": "code",
   "execution_count": 4,
   "metadata": {
    "colab": {},
    "colab_type": "code",
    "id": "yif1PT2-lff_"
   },
   "outputs": [
    {
     "name": "stdout",
     "output_type": "stream",
     "text": [
      "[1 3 5 6]\n"
     ]
    }
   ],
   "source": [
    "# Câu 2: Từ 2 array arr_a và arr_b ở câu 1 => Tạo array mới arr_d chứa các phần tử chỉ xuất hiện ở array arr_a\n",
    "arr_d = np.setdiff1d(arr_a, arr_b)\n",
    "print(arr_d)"
   ]
  },
  {
   "cell_type": "markdown",
   "metadata": {},
   "source": [
    "<details>\n",
    "  <summary>Nhấn vào đây để xem kết quả !</summary>\n",
    "  \n",
    " <pre>[1 3 5 6]\n",
    "</pre>\n",
    "\n",
    "</details>"
   ]
  },
  {
   "cell_type": "code",
   "execution_count": 11,
   "metadata": {
    "colab": {},
    "colab_type": "code",
    "id": "aSdpa26YlfgC"
   },
   "outputs": [
    {
     "name": "stdout",
     "output_type": "stream",
     "text": [
      "[ 6  9 10  8  6]\n"
     ]
    }
   ],
   "source": [
    "# Câu 3: Cho array arr_e = [2, 6, 1, 9, 10, 3, 27, 8, 6, 25, 16] \n",
    "arr_e = np.array([2,6,1,9,10,3,27,8,6,25,16])\n",
    "# Tạo array arr_f chỉ chứa các phần tử có giá trị từ 5 đến 10 của arr_e\n",
    "arr_f = arr_e[(arr_e >= 5) & (arr_e <= 10)]\n",
    "print(arr_f)"
   ]
  },
  {
   "cell_type": "markdown",
   "metadata": {},
   "source": [
    "<details>\n",
    "  <summary>Nhấn vào đây để xem kết quả !</summary>\n",
    "  \n",
    " <pre>[ 6  9 10  8  6]\n",
    "</pre>\n",
    "\n",
    "</details>"
   ]
  }
 ],
 "metadata": {
  "colab": {
   "name": "Chapter3_Exercise1.ipynb",
   "provenance": []
  },
  "kernelspec": {
   "display_name": "Python 3",
   "language": "python",
   "name": "python3"
  },
  "language_info": {
   "codemirror_mode": {
    "name": "ipython",
    "version": 3
   },
   "file_extension": ".py",
   "mimetype": "text/x-python",
   "name": "python",
   "nbconvert_exporter": "python",
   "pygments_lexer": "ipython3",
   "version": "3.8.3"
  }
 },
 "nbformat": 4,
 "nbformat_minor": 4
}
