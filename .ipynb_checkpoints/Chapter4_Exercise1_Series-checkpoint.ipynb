{
 "cells": [
  {
   "cell_type": "markdown",
   "metadata": {},
   "source": [
    "# Chapter 4 - Exercise 1: Thực hiện những yêu cầu liên quan đến series, và đối chiếu với kết quả Output"
   ]
  },
  {
   "cell_type": "markdown",
   "metadata": {},
   "source": [
    "## Part 1: Thực hiện các phép toán trên series"
   ]
  },
  {
   "cell_type": "code",
   "execution_count": 404,
   "metadata": {},
   "outputs": [],
   "source": [
    "import numpy as np\n",
    "import pandas as pd"
   ]
  },
  {
   "cell_type": "code",
   "execution_count": 405,
   "metadata": {},
   "outputs": [
    {
     "name": "stdout",
     "output_type": "stream",
     "text": [
      "0     2\n",
      "1     4\n",
      "2     6\n",
      "3     8\n",
      "4    10\n",
      "dtype: int64\n",
      "0     1\n",
      "1     3\n",
      "2     5\n",
      "3     7\n",
      "4    11\n",
      "dtype: int64\n"
     ]
    }
   ],
   "source": [
    "# Câu 1a: Tạo arr_1 có 5 phần tử số nguyên chẵn 2-4-6-8-10 , arr_2 có 5 phần tử số nguyên lẻ 1-3-5-7-11\n",
    "arr_1 = np.array([2, 4, 6, 8, 10])\n",
    "arr_2 = np.array([1, 3, 5, 7, 11])\n",
    "\n",
    "# In danh sách các phần tử của arr_1 và arr_2\n",
    "ser1 = pd.Series(arr_1)\n",
    "ser2 = pd.Series(arr_2)\n",
    "print (ser1)\n",
    "print (ser2)"
   ]
  },
  {
   "cell_type": "markdown",
   "metadata": {},
   "source": [
    "<details>\n",
    "  <summary>Nhấn vào đây để xem kết quả!</summary>\n",
    "  \n",
    "  <pre>0     2\n",
    "1     4\n",
    "2     6\n",
    "3     8\n",
    "4    10\n",
    "dtype: int32\n",
    "\n",
    "0     1\n",
    "1     3\n",
    "2     5\n",
    "3     7\n",
    "4    11\n",
    "dtype: int32\n",
    "</pre>\n",
    "</details>"
   ]
  },
  {
   "cell_type": "code",
   "execution_count": 406,
   "metadata": {},
   "outputs": [
    {
     "name": "stdout",
     "output_type": "stream",
     "text": [
      "0     3\n",
      "1     7\n",
      "2    11\n",
      "3    15\n",
      "4    21\n",
      "dtype: int64\n"
     ]
    }
   ],
   "source": [
    "# Câu 1b: Thực hiện phép toán và thể hiện kết quả của:  ser1 + ser2 \n",
    "\n",
    "print(ser1 + ser2)"
   ]
  },
  {
   "cell_type": "markdown",
   "metadata": {},
   "source": [
    "<details>\n",
    "  <summary>Nhấn vào đây để xem kết quả !</summary>\n",
    "<pre>0     3\n",
    "1     7\n",
    "2    11\n",
    "3    15\n",
    "4    21\n",
    "dtype: int32</pre>\n",
    "\n",
    "</details>"
   ]
  },
  {
   "cell_type": "code",
   "execution_count": 407,
   "metadata": {},
   "outputs": [
    {
     "name": "stdout",
     "output_type": "stream",
     "text": [
      "0    1\n",
      "1    1\n",
      "2    1\n",
      "3    1\n",
      "4   -1\n",
      "dtype: int64\n"
     ]
    }
   ],
   "source": [
    "# Câu 1c: Thực hiện phép toán và thể hiện kết quả của:  ser1 - ser2\n",
    "print (ser1 - ser2)"
   ]
  },
  {
   "cell_type": "code",
   "execution_count": 408,
   "metadata": {},
   "outputs": [
    {
     "name": "stdout",
     "output_type": "stream",
     "text": [
      "0      2\n",
      "1     12\n",
      "2     30\n",
      "3     56\n",
      "4    110\n",
      "dtype: int64\n"
     ]
    }
   ],
   "source": [
    "# Câu 1d: Thực hiện phép toán và thể hiện kết quả của:  ser1 * ser2\n",
    "print (ser1 * ser2)"
   ]
  },
  {
   "cell_type": "code",
   "execution_count": 409,
   "metadata": {},
   "outputs": [
    {
     "name": "stdout",
     "output_type": "stream",
     "text": [
      "0    2.000000\n",
      "1    1.333333\n",
      "2    1.200000\n",
      "3    1.142857\n",
      "4    0.909091\n",
      "dtype: float64\n"
     ]
    }
   ],
   "source": [
    "# Câu 1e: Thực hiện phép toán và thể hiện kết quả của:  ser1 / ser2\n",
    "print (ser1 / ser2)"
   ]
  },
  {
   "cell_type": "markdown",
   "metadata": {},
   "source": [
    "<details>\n",
    "  <summary>Nhấn vào đây để xem kết quả !</summary>\n",
    "<pre>0    2.000000\n",
    "1    1.333333\n",
    "2    1.200000\n",
    "3    1.142857\n",
    "4    0.909091\n",
    "dtype: float64</pre>\n",
    "\n",
    "</details>"
   ]
  },
  {
   "cell_type": "code",
   "execution_count": 410,
   "metadata": {},
   "outputs": [
    {
     "name": "stdout",
     "output_type": "stream",
     "text": [
      "0     True\n",
      "1     True\n",
      "2     True\n",
      "3     True\n",
      "4    False\n",
      "dtype: bool\n"
     ]
    }
   ],
   "source": [
    "# Câu 2a: Kiểm tra xem các phần tử của ser1 có > các phần tử của ser2 không?\n",
    "print (ser1.gt(ser2))"
   ]
  },
  {
   "cell_type": "markdown",
   "metadata": {},
   "source": [
    "<details>\n",
    "  <summary>Nhấn vào đây để xem kết quả !</summary>\n",
    "<pre>0     True\n",
    "1     True\n",
    "2     True\n",
    "3     True\n",
    "4    False\n",
    "dtype: bool</pre>\n",
    "\n",
    "</details>"
   ]
  },
  {
   "cell_type": "code",
   "execution_count": 411,
   "metadata": {},
   "outputs": [
    {
     "name": "stdout",
     "output_type": "stream",
     "text": [
      "0    False\n",
      "1    False\n",
      "2    False\n",
      "3    False\n",
      "4     True\n",
      "dtype: bool\n"
     ]
    }
   ],
   "source": [
    "# Câu 2b: Kiểm tra xem các phần tử của ser1 có < các phần tử của ser2 không?\n",
    "print (ser1.lt(ser2))"
   ]
  },
  {
   "cell_type": "code",
   "execution_count": 412,
   "metadata": {},
   "outputs": [
    {
     "name": "stdout",
     "output_type": "stream",
     "text": [
      "0    False\n",
      "1    False\n",
      "2    False\n",
      "3    False\n",
      "4    False\n",
      "dtype: bool\n"
     ]
    }
   ],
   "source": [
    "# Câu 2c: Kiểm tra xem các phần tử của ser1 có = các phần tử của ser2 không?\n",
    "print (ser1.eq(ser2))"
   ]
  },
  {
   "cell_type": "code",
   "execution_count": 413,
   "metadata": {},
   "outputs": [
    {
     "name": "stdout",
     "output_type": "stream",
     "text": [
      "0     1\n",
      "1     3\n",
      "2     5\n",
      "3     7\n",
      "4    11\n",
      "0     6\n",
      "1    12\n",
      "dtype: int64\n"
     ]
    }
   ],
   "source": [
    "# Câu 3a: Thêm 2 phần tử [6, 12] vào ser2\n",
    "ser2 = ser2.append(pd.Series([6, 12]))\n",
    "print(ser2)"
   ]
  },
  {
   "cell_type": "markdown",
   "metadata": {},
   "source": [
    "<details>\n",
    "  <summary>Nhấn vào đây để xem kết quả !</summary>\n",
    "<pre>0     1\n",
    "1     3\n",
    "2     5\n",
    "3     7\n",
    "4    11\n",
    "0     6\n",
    "1     12\n",
    "dtype: int64\n",
    "</pre>\n",
    "</details>"
   ]
  },
  {
   "cell_type": "code",
   "execution_count": 414,
   "metadata": {},
   "outputs": [
    {
     "name": "stdout",
     "output_type": "stream",
     "text": [
      "0     2\n",
      "1     4\n",
      "3     8\n",
      "4    10\n",
      "dtype: int64\n"
     ]
    }
   ],
   "source": [
    "# Câu 3b: Tạo series ser3 chỉ chứa các phần tử có trong ser1 mà không có trong ser2. \n",
    "\n",
    "ser2.reset_index(inplace=True, drop=True)\n",
    "ser3 = ser1[~ser1.isin(ser2)]\n",
    "\n",
    "#         In danh sách các phần tử của \n",
    "print(ser3)"
   ]
  },
  {
   "cell_type": "markdown",
   "metadata": {},
   "source": [
    "<details>\n",
    "  <summary>Nhấn vào đây để xem kết quả !</summary>\n",
    "<pre>0     2\n",
    "1     4\n",
    "3     8\n",
    "4    10\n",
    "dtype: int32\n",
    "</pre>\n",
    "\n",
    "</details>"
   ]
  },
  {
   "cell_type": "code",
   "execution_count": 415,
   "metadata": {},
   "outputs": [
    {
     "name": "stdout",
     "output_type": "stream",
     "text": [
      "0     1\n",
      "1     3\n",
      "2     5\n",
      "3     7\n",
      "4    11\n",
      "6    12\n",
      "dtype: int64\n"
     ]
    }
   ],
   "source": [
    "# Câu 3c: Tạo series ser4 chỉ chứa các phần tử có trong ser2 mà không có trong ser1. \n",
    "ser4 = ser2[~ser2.isin(ser1)]\n",
    "\n",
    "#         In danh sách các phần tử của ser4\n",
    "print(ser4)"
   ]
  },
  {
   "cell_type": "markdown",
   "metadata": {},
   "source": [
    "<details>\n",
    "  <summary>Nhấn vào đây để xem kết quả !</summary>\n",
    "<pre>0     1\n",
    "1     3\n",
    "2     5\n",
    "3     7\n",
    "4    11\n",
    "1    12\n",
    "dtype: int64\n",
    "</pre>\n",
    "\n",
    "</details>"
   ]
  },
  {
   "cell_type": "code",
   "execution_count": 416,
   "metadata": {},
   "outputs": [
    {
     "name": "stdout",
     "output_type": "stream",
     "text": [
      "0     2\n",
      "1     4\n",
      "3     8\n",
      "4    10\n",
      "0     1\n",
      "1     3\n",
      "2     5\n",
      "3     7\n",
      "4    11\n",
      "6    12\n",
      "dtype: int64\n"
     ]
    }
   ],
   "source": [
    "# Câu 4: Tạo series ser5 chứa các phần tử chỉ có trong ser1 và chỉ có trong ser2\n",
    "ser5 = pd.concat([ser3, ser4])\n",
    "#        In danh sách các phần tử của ser5\n",
    "print(ser5)"
   ]
  },
  {
   "cell_type": "markdown",
   "metadata": {},
   "source": [
    "<details>\n",
    "  <summary>Nhấn vào đây để xem kết quả !</summary>\n",
    "<pre>0     2\n",
    "1     4\n",
    "3     8\n",
    "4    10\n",
    "0     1\n",
    "1     3\n",
    "2     5\n",
    "3     7\n",
    "4    11\n",
    "1    12\n",
    "dtype: int64\n",
    "</pre>\n",
    "\n",
    "</details>"
   ]
  },
  {
   "cell_type": "markdown",
   "metadata": {},
   "source": [
    "## Part 2: Truy xuất các phần tử, và thống kê thông tin trên series"
   ]
  },
  {
   "cell_type": "code",
   "execution_count": 417,
   "metadata": {},
   "outputs": [
    {
     "name": "stdout",
     "output_type": "stream",
     "text": [
      "0     6\n",
      "1     4\n",
      "2     5\n",
      "3     1\n",
      "4     8\n",
      "5     2\n",
      "6     4\n",
      "7     6\n",
      "8     8\n",
      "9     1\n",
      "10    1\n",
      "11    2\n",
      "12    5\n",
      "13    8\n",
      "14    6\n",
      "15    5\n",
      "16    7\n",
      "17    2\n",
      "18    3\n",
      "19    5\n",
      "20    7\n",
      "21    6\n",
      "22    3\n",
      "23    5\n",
      "24    4\n",
      "25    5\n",
      "26    3\n",
      "27    5\n",
      "28    6\n",
      "29    7\n",
      "30    3\n",
      "31    5\n",
      "32    8\n",
      "33    8\n",
      "34    2\n",
      "dtype: int64\n"
     ]
    }
   ],
   "source": [
    "np.random.seed(1)\n",
    "# Câu 1a: Tạo series ser6 có 35 phần tử số nguyên ngẫu nhiên có giá trị trong khoảng từ 1 đến 9. \n",
    "ser6 = pd.Series(np.random.randint(1, 9, size=35))\n",
    "print(ser6)"
   ]
  },
  {
   "cell_type": "markdown",
   "metadata": {},
   "source": [
    "<details>\n",
    "  <summary>Nhấn vào đây để xem kết quả !</summary>\n",
    "<pre>(35,)\n",
    "\n",
    "0    6\n",
    "1    9\n",
    "2    6\n",
    "3    1\n",
    "4    1\n",
    "dtype: int32\n",
    "\n",
    "30    8\n",
    "31    4\n",
    "32    7\n",
    "33    6\n",
    "34    2\n",
    "dtype: int32\n",
    "</pre>\n",
    "\n",
    "</details>"
   ]
  },
  {
   "cell_type": "code",
   "execution_count": 418,
   "metadata": {},
   "outputs": [
    {
     "name": "stdout",
     "output_type": "stream",
     "text": [
      "[6 4 5 1 8 2 4 6 8 1 1 2 5 8 6 5 7 2 3 5 7 6 3 5 4 5 3 5 6 7 3 5 8 8 2]\n"
     ]
    }
   ],
   "source": [
    "# Câu 1b: In danh sách các phần tử của ser6 theo dạng array\n",
    "print(ser6.values)"
   ]
  },
  {
   "cell_type": "markdown",
   "metadata": {},
   "source": [
    "<details>\n",
    "  <summary>Nhấn vào đây để xem kết quả !</summary>\n",
    "<pre>[6 9 6 1 1 2 8 7 3 5 6 3 5 3 5 8 8 2 8 1 7 8 7 2 1 2 9 9 4 9 8 4 7 6 2]\n",
    "</pre>\n",
    "\n",
    "</details>"
   ]
  },
  {
   "cell_type": "code",
   "execution_count": 419,
   "metadata": {},
   "outputs": [
    {
     "data": {
      "text/plain": [
       "count    35.000000\n",
       "mean      4.742857\n",
       "std       2.187435\n",
       "min       1.000000\n",
       "25%       3.000000\n",
       "50%       5.000000\n",
       "75%       6.000000\n",
       "max       8.000000\n",
       "dtype: float64"
      ]
     },
     "execution_count": 419,
     "metadata": {},
     "output_type": "execute_result"
    }
   ],
   "source": [
    "# Câu 1c: Cho biết thông tin thống kê chung (describe()) của ser6\n",
    "ser6.describe()"
   ]
  },
  {
   "cell_type": "markdown",
   "metadata": {},
   "source": [
    "<details>\n",
    "  <summary>Nhấn vào đây để xem kết quả !</summary>\n",
    "<pre>count    35.000000\n",
    "mean      5.200000\n",
    "std       2.763204\n",
    "min       1.000000\n",
    "25%       2.500000\n",
    "50%       6.000000\n",
    "75%       8.000000\n",
    "max       9.000000\n",
    "dtype: float64</pre>\n",
    "\n",
    "</details>"
   ]
  },
  {
   "cell_type": "code",
   "execution_count": 420,
   "metadata": {},
   "outputs": [
    {
     "name": "stdout",
     "output_type": "stream",
     "text": [
      "166\n"
     ]
    }
   ],
   "source": [
    "# Câu 1d: Cho biết tổng của các phần tử có trong ser6\n",
    "print(ser6.sum())"
   ]
  },
  {
   "cell_type": "markdown",
   "metadata": {},
   "source": [
    "<details>\n",
    "  <summary>Nhấn vào đây để xem kết quả !</summary>\n",
    "<pre> 182 </pre>\n",
    "</details>"
   ]
  },
  {
   "cell_type": "code",
   "execution_count": 421,
   "metadata": {},
   "outputs": [],
   "source": [
    "# Câu 1e: Cho biết phần tử có tần suất xuất hiện nhiều nhất trong ser6"
   ]
  },
  {
   "cell_type": "markdown",
   "metadata": {},
   "source": [
    "<details>\n",
    "  <summary>Nhấn vào đây để xem kết quả !</summary>\n",
    "<pre>0    8\n",
    "dtype: int32</pre>\n",
    "\n",
    "</details>"
   ]
  },
  {
   "cell_type": "code",
   "execution_count": 422,
   "metadata": {},
   "outputs": [
    {
     "name": "stdout",
     "output_type": "stream",
     "text": [
      "0     6\n",
      "7     6\n",
      "14    6\n",
      "21    6\n",
      "28    6\n",
      "dtype: int64\n"
     ]
    }
   ],
   "source": [
    "# Câu 2:  Liệt kê các dòng trong ser6 mà giá trị chia hết cho 2 và cho 3\n",
    "print(ser6[(ser6 % 2 == 0) & (ser6 % 3 == 0)])"
   ]
  },
  {
   "cell_type": "markdown",
   "metadata": {},
   "source": [
    "<details>\n",
    "  <summary>Nhấn vào đây để xem kết quả !</summary>\n",
    "<pre>0     6\n",
    "2     6\n",
    "10    6\n",
    "33    6\n",
    "dtype: int32</pre>\n",
    "\n",
    "</details>"
   ]
  },
  {
   "cell_type": "code",
   "execution_count": 423,
   "metadata": {},
   "outputs": [
    {
     "name": "stdout",
     "output_type": "stream",
     "text": [
      "0     6\n",
      "5     2\n",
      "10    1\n",
      "15    5\n",
      "dtype: int64\n",
      "0     6\n",
      "6     4\n",
      "10    1\n",
      "15    5\n",
      "dtype: int64\n"
     ]
    }
   ],
   "source": [
    "# Câu 3: In các phần tử ở vị trí 0, 5, 10, 15 trong ser6\n",
    "print(ser6[:20:5])\n",
    "print(ser6[[0,6,10,15]])"
   ]
  },
  {
   "cell_type": "markdown",
   "metadata": {},
   "source": [
    "<details>\n",
    "  <summary>Nhấn vào đây để xem kết quả !</summary>\n",
    "<pre>0     6\n",
    "5     2\n",
    "10    6\n",
    "15    8\n",
    "dtype: int32</pre>\n",
    "\n",
    "</details>"
   ]
  },
  {
   "cell_type": "code",
   "execution_count": 424,
   "metadata": {},
   "outputs": [
    {
     "data": {
      "text/plain": [
       "array([6, 4, 5, 1, 8, 2, 7, 3])"
      ]
     },
     "execution_count": 424,
     "metadata": {},
     "output_type": "execute_result"
    }
   ],
   "source": [
    "# Câu 4: In ra các giá trị unique (array) trong ser6\n",
    "ser6.unique()"
   ]
  },
  {
   "cell_type": "markdown",
   "metadata": {},
   "source": [
    "<details>\n",
    "  <summary>Nhấn vào đây để xem kết quả !</summary>\n",
    "<pre>array([6, 9, 1, 2, 8, 7, 3, 5, 4], dtype=int64)</pre>\n",
    "</details>"
   ]
  },
  {
   "cell_type": "code",
   "execution_count": 425,
   "metadata": {},
   "outputs": [
    {
     "name": "stdout",
     "output_type": "stream",
     "text": [
      "0      5\n",
      "1      7\n",
      "2      6\n",
      "3      2\n",
      "4     11\n",
      "5      1\n",
      "6      7\n",
      "7      5\n",
      "8     11\n",
      "9      2\n",
      "10     2\n",
      "11     1\n",
      "12     6\n",
      "13    11\n",
      "14     5\n",
      "15     6\n",
      "16     4\n",
      "17     1\n",
      "18     0\n",
      "19     6\n",
      "20     4\n",
      "21     5\n",
      "22     0\n",
      "23     6\n",
      "24     7\n",
      "25     6\n",
      "26     0\n",
      "27     6\n",
      "28     5\n",
      "29     4\n",
      "30     0\n",
      "31     6\n",
      "32    11\n",
      "33    11\n",
      "34     1\n",
      "dtype: int64\n"
     ]
    }
   ],
   "source": [
    "# Câu 5: Tạo series ser7 với mỗi phần tử có giá trị = lập phương của phần tử trong ser6. \n",
    "ser7 = ser6.map(lambda x: x^3)\n",
    "print(ser7)"
   ]
  },
  {
   "cell_type": "markdown",
   "metadata": {},
   "source": [
    "<details>\n",
    "  <summary>Nhấn vào đây để xem kết quả !</summary>\n",
    "<pre>0    216.0\n",
    "1    729.0\n",
    "2    216.0\n",
    "3      1.0\n",
    "4      1.0\n",
    "dtype: float64\n",
    "</pre>\n",
    "\n",
    "</details>"
   ]
  },
  {
   "cell_type": "markdown",
   "metadata": {},
   "source": [
    "## Part 3: Tạo series từ list, chuỗi và biểu thức điều kiện "
   ]
  },
  {
   "cell_type": "markdown",
   "metadata": {},
   "source": [
    "Hướng dẫn chung:\n",
    "* Lập biểu thức điều kiện: <span style=\"color:blue\">biến_series.map(lambda)</span>"
   ]
  },
  {
   "cell_type": "code",
   "execution_count": 426,
   "metadata": {},
   "outputs": [],
   "source": [
    "# Câu 1: Cho list sau:\n",
    "lst = [\"abc\", \"defg\", \"htlmj\", \"dfg\", \"ljsac\"]"
   ]
  },
  {
   "cell_type": "code",
   "execution_count": 427,
   "metadata": {},
   "outputs": [
    {
     "name": "stdout",
     "output_type": "stream",
     "text": [
      "0    3\n",
      "1    4\n",
      "2    5\n",
      "3    3\n",
      "4    5\n",
      "dtype: int64\n"
     ]
    }
   ],
   "source": [
    "# Câu 1: Tạo series từ list này và tạo series ser_dodai với mỗi phần tử có giá trị là chiều dài của mỗi phần tử trong ser_chuoi\n",
    "ser_chuoi = pd.Series(lst)\n",
    "ser_dodai = pd.Series(ser_chuoi.map(lambda x: len(x)))\n",
    "print(ser_dodai)"
   ]
  },
  {
   "cell_type": "markdown",
   "metadata": {},
   "source": [
    "<details>\n",
    "  <summary>Nhấn vào đây để xem kết quả !</summary>\n",
    "<pre>0    3\n",
    "1    4\n",
    "2    5\n",
    "3    3\n",
    "4    5\n",
    "dtype: int64</pre>\n",
    "\n",
    "</details>"
   ]
  },
  {
   "cell_type": "code",
   "execution_count": 428,
   "metadata": {},
   "outputs": [],
   "source": [
    "import math\n",
    "def isPrime (num):\n",
    "    if (num < 2):\n",
    "        return False\n",
    "    else:\n",
    "        counter = 2\n",
    "        counter_guard = 0\n",
    "        while counter <= math.sqrt(num):\n",
    "            if num % counter == 0:\n",
    "                counter_guard += 1\n",
    "            counter += 1\n",
    "        return True if counter_guard == 0 else False"
   ]
  },
  {
   "cell_type": "code",
   "execution_count": 429,
   "metadata": {},
   "outputs": [
    {
     "name": "stdout",
     "output_type": "stream",
     "text": [
      "1    2\n",
      "3    5\n",
      "5    7\n",
      "dtype: int64\n"
     ]
    }
   ],
   "source": [
    "# Câu 2: Cho ser = pd.Series(np.array([1, 2, 4, 5, 8, 7, 6, 9])). \n",
    "# Sử dụng biểu thức điều kiện thích hợp để in ra các dòng trong ser có giá trị là số nguyên tố\n",
    "ser = pd.Series(np.array([1, 2, 4, 5, 8, 7, 6, 9]))\n",
    "print(ser[ser.map(lambda x: isPrime(x))])"
   ]
  },
  {
   "cell_type": "markdown",
   "metadata": {},
   "source": [
    "<details>\n",
    "  <summary>Nhấn vào đây để xem kết quả !</summary>\n",
    "<pre>1    2\n",
    "3    5\n",
    "5    7\n",
    "dtype: int32\n",
    "</pre>\n",
    "\n",
    "</details>"
   ]
  },
  {
   "cell_type": "code",
   "execution_count": 430,
   "metadata": {},
   "outputs": [
    {
     "name": "stdout",
     "output_type": "stream",
     "text": [
      "1          tubirona@gmail.com\n",
      "2         nguyen.nn@yahoo.com\n",
      "3    tran_2014@hotmail.com.vn\n",
      "dtype: object\n"
     ]
    }
   ],
   "source": [
    "# Câu 3: Cho mẫu email như sau:\n",
    "pattern ='[A-Za-z0-9._%+-]+@[A-Za-z0-9.-]+\\\\.[A-Za-z]{2,4}'\n",
    "\n",
    "# Tạo một series ser_ch, với mỗi phần tử trong ser_ch là một chuỗi\n",
    "# Gợi ý: 'reading newspaper from tuoitre.vn', 'tubirona@gmail.com', 'nguyen.nn@yahoo.com', 'tran_2014@hotmail.com.vn'\n",
    "ser_ch = pd.Series(np.array(['reading newspaper from tuoitre.vn', 'tubirona@gmail.com', 'nguyen.nn@yahoo.com', 'tran_2014@hotmail.com.vn']))\n",
    "\n",
    "# In ra những dòng trong ser_ch thỏa điều kiện chuỗi là email\n",
    "print(ser_ch[ser_ch.str.match(pattern)])"
   ]
  },
  {
   "cell_type": "markdown",
   "metadata": {},
   "source": [
    "<details>\n",
    "  <summary>Nhấn vào đây để xem kết quả !</summary>\n",
    "<pre>1          tubirona@gmail.com\n",
    "2         nguyen.nn@yahoo.com\n",
    "3    tran_2014@hotmail.com.vn\n",
    "dtype: object</pre>\n",
    "\n",
    "</details>"
   ]
  },
  {
   "cell_type": "code",
   "execution_count": 431,
   "metadata": {},
   "outputs": [
    {
     "name": "stdout",
     "output_type": "stream",
     "text": [
      "3    Min_Price\n",
      "4        Price\n",
      "5    Max_Price\n",
      "dtype: object\n"
     ]
    }
   ],
   "source": [
    "# Câu 4: Cho series:\n",
    "ser_names = pd.Series(['Manufacturer', 'Model', 'CarType', 'Min_Price', 'Price', 'Max_Price',\n",
    "       'MPG_city', 'MPG_highway', 'AirBags', 'DriveTrain', 'Cylinders',\n",
    "       'EngineSize', 'Horsepower', 'RPM', 'Rev_per_mile', 'Man_trans_avail',\n",
    "       'Fuel_tank_capacity', 'Passengers', 'Length', 'Wheelbase', 'Width',\n",
    "       'Turn_circle', 'Rear_seat_room', 'Luggage_room', 'Weight', 'Origin',\n",
    "       'Make'])\n",
    "# Sử dụng biểu thức điều kiện thích hợp để in ra các dòng của ser_names thỏa điều kiện trong chuỗi có chữ 'Price'\n",
    "print(ser_names[ser_names.str.contains('Price')])"
   ]
  },
  {
   "cell_type": "markdown",
   "metadata": {},
   "source": [
    "<details>\n",
    "  <summary>Nhấn vào đây để xem kết quả !</summary>\n",
    "<pre>3    Min_Price\n",
    "4        Price\n",
    "5    Max_Price\n",
    "dtype: object\n",
    "</pre>\n",
    "\n",
    "</details>"
   ]
  }
 ],
 "metadata": {
  "kernelspec": {
   "display_name": "Python 3",
   "language": "python",
   "name": "python3"
  },
  "language_info": {
   "codemirror_mode": {
    "name": "ipython",
    "version": 3
   },
   "file_extension": ".py",
   "mimetype": "text/x-python",
   "name": "python",
   "nbconvert_exporter": "python",
   "pygments_lexer": "ipython3",
   "version": "3.8.3"
  }
 },
 "nbformat": 4,
 "nbformat_minor": 4
}
