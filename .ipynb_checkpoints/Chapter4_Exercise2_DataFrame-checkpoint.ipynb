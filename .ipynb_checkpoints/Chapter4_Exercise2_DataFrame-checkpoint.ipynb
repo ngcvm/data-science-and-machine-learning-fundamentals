{
 "cells": [
  {
   "cell_type": "markdown",
   "metadata": {},
   "source": [
    "# Chapter 4 - Exercise 2: Hãy thực hiện những yêu cầu liên quan tới Data Frame"
   ]
  },
  {
   "cell_type": "markdown",
   "metadata": {},
   "source": [
    "\n",
    "### Thực hiện các yêu cầu sau, và đối chiếu với kết quả Output (nếu có):"
   ]
  },
  {
   "cell_type": "code",
   "execution_count": 782,
   "metadata": {},
   "outputs": [],
   "source": [
    "import numpy as np\n",
    "import pandas as pd"
   ]
  },
  {
   "cell_type": "code",
   "execution_count": 783,
   "metadata": {},
   "outputs": [
    {
     "name": "stdout",
     "output_type": "stream",
     "text": [
      "    X   Y   Z\n",
      "0  78  84  86\n",
      "1  85  94  97\n",
      "2  96  89  96\n",
      "3  80  83  72\n",
      "4  86  86  83\n"
     ]
    }
   ],
   "source": [
    "# Câu 1: Tạo Data Frame từ dictionary như sau: \n",
    "# dic_1 = {'X':[78,85,96,80,86], 'Y':[84,94,89,83,86],'Z':[86,97,96,72,83]}. In data frame này\n",
    "dic_1 = {'X':[78,85,96,80,86], 'Y':[84,94,89,83,86],'Z':[86,97,96,72,83]}\n",
    "df1 = pd.DataFrame(dic_1)\n",
    "print(df1)\n"
   ]
  },
  {
   "cell_type": "code",
   "execution_count": 784,
   "metadata": {},
   "outputs": [
    {
     "name": "stdout",
     "output_type": "stream",
     "text": [
      "        name  score  attempts qualify\n",
      "a  Anastasia   12.5         1     yes\n",
      "b       Dima    9.0         3      no\n",
      "c  Katherine   16.5         2     yes\n",
      "d      James    NaN         3      no\n",
      "e      Emily    9.0         2      no\n",
      "f    Michael   20.0         3     yes\n",
      "g    Matthew   14.5         1     yes\n",
      "h      Laura    NaN         1      no\n",
      "i      Kevin    8.0         2      no\n",
      "j      Jonas   19.0         1     yes\n"
     ]
    }
   ],
   "source": [
    "# Câu 2: Tạo Data Frame df2 từ dictionary exam_data, với index của data frame là lables đã cho,\n",
    "#        và In data frame vừa tạo và in info() của data frame\n",
    "\n",
    "exam_data  = {'name': ['Anastasia', 'Dima', 'Katherine', 'James', 'Emily', 'Michael', 'Matthew', 'Laura', 'Kevin', 'Jonas'],\n",
    "        'score': [12.5, 9, 16.5, np.nan, 9, 20, 14.5,np.nan, 8, 19],\n",
    "        'attempts': [1, 3, 2, 3, 2, 3, 1, 1, 2, 1],\n",
    "        'qualify': ['yes', 'no', 'yes', 'no', 'no', 'yes', 'yes', 'no', 'no', 'yes']}\n",
    "labels = ['a', 'b', 'c', 'd', 'e', 'f', 'g', 'h', 'i', 'j']\n",
    "\n",
    "df2 = pd.DataFrame(exam_data, index=labels)\n",
    "print(df2)\n",
    "\n"
   ]
  },
  {
   "cell_type": "code",
   "execution_count": 785,
   "metadata": {},
   "outputs": [
    {
     "name": "stdout",
     "output_type": "stream",
     "text": [
      "<class 'pandas.core.frame.DataFrame'>\n",
      "Index: 10 entries, a to j\n",
      "Data columns (total 4 columns):\n",
      " #   Column    Non-Null Count  Dtype  \n",
      "---  ------    --------------  -----  \n",
      " 0   name      10 non-null     object \n",
      " 1   score     8 non-null      float64\n",
      " 2   attempts  10 non-null     int64  \n",
      " 3   qualify   10 non-null     object \n",
      "dtypes: float64(1), int64(1), object(2)\n",
      "memory usage: 400.0+ bytes\n",
      "None\n"
     ]
    }
   ],
   "source": [
    "# In info() của data frame\n",
    "print(df2.info())\n"
   ]
  },
  {
   "cell_type": "code",
   "execution_count": 786,
   "metadata": {},
   "outputs": [
    {
     "name": "stdout",
     "output_type": "stream",
     "text": [
      "        name  score\n",
      "a  Anastasia   12.5\n",
      "b       Dima    9.0\n",
      "c  Katherine   16.5\n",
      "d      James    NaN\n",
      "e      Emily    9.0\n",
      "f    Michael   20.0\n",
      "g    Matthew   14.5\n",
      "h      Laura    NaN\n",
      "i      Kevin    8.0\n",
      "j      Jonas   19.0\n",
      "<class 'pandas.core.frame.DataFrame'>\n",
      "(10, 2)\n"
     ]
    }
   ],
   "source": [
    "# Câu 3: Tạo data frame mới từ data frame df2, chỉ chứa 2 cột là name và score.  \n",
    "#        In type, shape của data frame này. \n",
    "\n",
    "df3 = df2[['name', 'score']]\n",
    "print(df3)\n",
    "print(type(df3))\n",
    "print(df3.shape)"
   ]
  },
  {
   "cell_type": "code",
   "execution_count": 787,
   "metadata": {},
   "outputs": [
    {
     "name": "stdout",
     "output_type": "stream",
     "text": [
      "        name  score\n",
      "a  Anastasia   12.5\n",
      "b       Dima    9.0\n",
      "c  Katherine   16.5\n",
      "d      James    NaN\n",
      "e      Emily    9.0\n"
     ]
    }
   ],
   "source": [
    "# In head của data frame này\n",
    "print(df3.head())\n"
   ]
  },
  {
   "cell_type": "code",
   "execution_count": 788,
   "metadata": {},
   "outputs": [
    {
     "name": "stdout",
     "output_type": "stream",
     "text": [
      "      name  score\n",
      "b     Dima    9.0\n",
      "d    James    NaN\n",
      "f  Michael   20.0\n",
      "g  Matthew   14.5\n"
     ]
    }
   ],
   "source": [
    "# Câu 4: Tạo data frame mới từ data frame df2, chỉ chứa 2 cột là name và score, và chỉ có các dòng 1, 3, 5, 6\n",
    "df4 = df2.iloc[[1, 3, 5, 6], [0, 1]]\n",
    "# In data frame này\n",
    "print(df4)\n"
   ]
  },
  {
   "cell_type": "markdown",
   "metadata": {},
   "source": [
    "<details>\n",
    "  <summary>Nhấn vào đây để xem kết quả !</summary>\n",
    "<div>\n",
    "\n",
    "<table border=\"1\" class=\"dataframe\">\n",
    "  <thead>\n",
    "    <tr style=\"text-align: right\">\n",
    "      <th></th>\n",
    "      <th>name</th>\n",
    "      <th>score</th>\n",
    "    </tr>\n",
    "  </thead>\n",
    "  <tbody>\n",
    "    <tr>\n",
    "      <th>b</th>\n",
    "      <td>Dima</td>\n",
    "      <td>9.0</td>\n",
    "    </tr>\n",
    "    <tr>\n",
    "      <th>d</th>\n",
    "      <td>James</td>\n",
    "      <td>NaN</td>\n",
    "    </tr>\n",
    "    <tr>\n",
    "      <th>f</th>\n",
    "      <td>Michael</td>\n",
    "      <td>20.0</td>\n",
    "    </tr>\n",
    "    <tr>\n",
    "      <th>g</th>\n",
    "      <td>Matthew</td>\n",
    "      <td>14.5</td>\n",
    "    </tr>\n",
    "  </tbody>\n",
    "</table>\n",
    "</div>\n",
    "\n",
    "</details>"
   ]
  },
  {
   "cell_type": "code",
   "execution_count": 789,
   "metadata": {},
   "outputs": [
    {
     "name": "stdout",
     "output_type": "stream",
     "text": [
      "    name  score  attempts qualify\n",
      "d  James    NaN         3      no\n",
      "h  Laura    NaN         1      no\n"
     ]
    }
   ],
   "source": [
    "# Câu 5: Từ data frame df2, In các dòng có dữ liệu score bị null\n",
    "print(df2[df2['score'].isna()])\n"
   ]
  },
  {
   "cell_type": "markdown",
   "metadata": {},
   "source": [
    "<details>\n",
    "  <summary>Nhấn vào đây để xem kết quả !</summary>\n",
    "<div>\n",
    "\n",
    "<table border=\"1\" class=\"dataframe\">\n",
    "  <thead>\n",
    "    <tr style=\"text-align: right\">\n",
    "      <th></th>\n",
    "      <th>name</th>\n",
    "      <th>score</th>\n",
    "      <th>attempts</th>\n",
    "      <th>qualify</th>\n",
    "    </tr>\n",
    "  </thead>\n",
    "  <tbody>\n",
    "    <tr>\n",
    "      <th>d</th>\n",
    "      <td>James</td>\n",
    "      <td>NaN</td>\n",
    "      <td>3</td>\n",
    "      <td>no</td>\n",
    "    </tr>\n",
    "    <tr>\n",
    "      <th>h</th>\n",
    "      <td>Laura</td>\n",
    "      <td>NaN</td>\n",
    "      <td>1</td>\n",
    "      <td>no</td>\n",
    "    </tr>\n",
    "  </tbody>\n",
    "</table>\n",
    "</div>\n",
    "\n",
    "</details>"
   ]
  },
  {
   "cell_type": "code",
   "execution_count": 790,
   "metadata": {},
   "outputs": [
    {
     "name": "stdout",
     "output_type": "stream",
     "text": [
      "        name  score  attempts qualify\n",
      "c  Katherine   16.5         2     yes\n",
      "j      Jonas   19.0         1     yes\n"
     ]
    }
   ],
   "source": [
    "# Câu 6: Từ data frame df2, In các dòng có score > 15 và <=20\n",
    "print(df2[(df2['score'] > 15) & (df2['score'] < 20)])\n"
   ]
  },
  {
   "cell_type": "markdown",
   "metadata": {},
   "source": [
    "<details>\n",
    "  <summary>Nhấn vào đây để xem kết quả !</summary>\n",
    "<div>\n",
    "\n",
    "<table border=\"1\" class=\"dataframe\">\n",
    "  <thead>\n",
    "    <tr style=\"text-align: right\">\n",
    "      <th></th>\n",
    "      <th>name</th>\n",
    "      <th>score</th>\n",
    "      <th>attempts</th>\n",
    "      <th>qualify</th>\n",
    "    </tr>\n",
    "  </thead>\n",
    "  <tbody>\n",
    "    <tr>\n",
    "      <th>c</th>\n",
    "      <td>Katherine</td>\n",
    "      <td>16.5</td>\n",
    "      <td>2</td>\n",
    "      <td>yes</td>\n",
    "    </tr>\n",
    "    <tr>\n",
    "      <th>f</th>\n",
    "      <td>Michael</td>\n",
    "      <td>20.0</td>\n",
    "      <td>3</td>\n",
    "      <td>yes</td>\n",
    "    </tr>\n",
    "    <tr>\n",
    "      <th>j</th>\n",
    "      <td>Jonas</td>\n",
    "      <td>19.0</td>\n",
    "      <td>1</td>\n",
    "      <td>yes</td>\n",
    "    </tr>\n",
    "  </tbody>\n",
    "</table>\n",
    "</div>\n",
    "\n",
    "</details>"
   ]
  },
  {
   "cell_type": "code",
   "execution_count": 791,
   "metadata": {},
   "outputs": [
    {
     "name": "stdout",
     "output_type": "stream",
     "text": [
      "name        James\n",
      "score          18\n",
      "attempts        3\n",
      "qualify        no\n",
      "Name: d, dtype: object\n"
     ]
    }
   ],
   "source": [
    "# Câu 7: Cập nhật điểm ở dòng 'd' thành 18\n",
    "df2.loc['d', 'score'] = 18\n",
    "print(df2.loc['d'])"
   ]
  },
  {
   "cell_type": "code",
   "execution_count": 792,
   "metadata": {},
   "outputs": [
    {
     "name": "stdout",
     "output_type": "stream",
     "text": [
      "           score   attempts\n",
      "count   9.000000  10.000000\n",
      "mean   14.055556   1.900000\n",
      "std     4.633064   0.875595\n",
      "min     8.000000   1.000000\n",
      "25%     9.000000   1.000000\n",
      "50%    14.500000   2.000000\n",
      "75%    18.000000   2.750000\n",
      "max    20.000000   3.000000\n"
     ]
    }
   ],
   "source": [
    "# Câu 8: Hiển thị thông tin thống kê chung của df2\n",
    "print(df2.describe())\n"
   ]
  },
  {
   "cell_type": "code",
   "execution_count": 793,
   "metadata": {},
   "outputs": [
    {
     "name": "stdout",
     "output_type": "stream",
     "text": [
      "9.0\n",
      "    name  score  attempts qualify\n",
      "b   Dima    9.0         3      no\n",
      "e  Emily    9.0         2      no\n"
     ]
    }
   ],
   "source": [
    "# Câu 9: Cho biết điểm mấy có tần suất xuất hiện nhiều nhất? In những dòng này. \n",
    "sc_mode = df2['score'].mode()\n",
    "print(sc_mode[0])\n",
    "row_matched = df2[df2['score'] == sc_mode[0]]\n",
    "print(row_matched)"
   ]
  },
  {
   "cell_type": "markdown",
   "metadata": {},
   "source": [
    "<details>\n",
    "  <summary>Nhấn vào đây để xem kết quả !</summary>\n",
    "<pre>9.0\n",
    "</pre>\n",
    "    \n",
    "<div>\n",
    "\n",
    "<table border=\"1\" class=\"dataframe\">\n",
    "  <thead>\n",
    "    <tr style=\"text-align: right\">\n",
    "      <th></th>\n",
    "      <th>name</th>\n",
    "      <th>score</th>\n",
    "      <th>attempts</th>\n",
    "      <th>qualify</th>\n",
    "    </tr>\n",
    "  </thead>\n",
    "  <tbody>\n",
    "    <tr>\n",
    "      <th>b</th>\n",
    "      <td>Dima</td>\n",
    "      <td>9.0</td>\n",
    "      <td>3</td>\n",
    "      <td>no</td>\n",
    "    </tr>\n",
    "    <tr>\n",
    "      <th>e</th>\n",
    "      <td>Emily</td>\n",
    "      <td>9.0</td>\n",
    "      <td>2</td>\n",
    "      <td>no</td>\n",
    "    </tr>\n",
    "  </tbody>\n",
    "</table>\n",
    "</div>\n",
    "\n",
    "</details>"
   ]
  },
  {
   "cell_type": "code",
   "execution_count": 794,
   "metadata": {},
   "outputs": [
    {
     "name": "stdout",
     "output_type": "stream",
     "text": [
      "2\n"
     ]
    }
   ],
   "source": [
    "# Cho biết có bao nhiêu dòng thỏa điều kiện?\n",
    "print(row_matched.shape[0])\n"
   ]
  },
  {
   "cell_type": "code",
   "execution_count": 795,
   "metadata": {},
   "outputs": [
    {
     "name": "stdout",
     "output_type": "stream",
     "text": [
      "        name  score  attempts qualify\n",
      "a  Anastasia   12.5         1     yes\n",
      "b       Dima    9.0         3      no\n",
      "c  Katherine   16.5         2     yes\n",
      "d      James   18.0         3      no\n",
      "e      Emily    9.0         2      no\n",
      "f    Michael   20.0         3     yes\n",
      "g    Matthew   14.5         1     yes\n",
      "h      Laura    NaN         1      no\n",
      "i      Kevin    8.0         2      no\n",
      "j      Jonas   19.0         1     yes\n",
      "k     Suresh   15.5         1     yes\n"
     ]
    }
   ],
   "source": [
    "# Câu 10: Thêm dòng k có nội dung như sau: [1, 'Suresh', 'yes', 15.5] vào df2\n",
    "df2.loc['k'] = ['Suresh', 15.5, 1, 'yes']\n",
    "print(df2)"
   ]
  },
  {
   "cell_type": "code",
   "execution_count": 796,
   "metadata": {},
   "outputs": [
    {
     "name": "stdout",
     "output_type": "stream",
     "text": [
      "     name  score  attempts qualify\n",
      "h   Laura    NaN         1      no\n",
      "i   Kevin    8.0         2      no\n",
      "j   Jonas   19.0         1     yes\n",
      "k  Suresh   15.5         1     yes\n",
      "l   Janny   12.5         2     yes\n"
     ]
    }
   ],
   "source": [
    "# Câu 11: Thêm dòng l có nội dung như sau: ['Janny', 12.5, 2, 'yes'] vào df2. In tail của df2.\n",
    "df2.loc['l'] = ['Janny', 12.5, 2, 'yes'] \n",
    "print(df2.tail())\n"
   ]
  },
  {
   "cell_type": "code",
   "execution_count": 797,
   "metadata": {},
   "outputs": [
    {
     "name": "stdout",
     "output_type": "stream",
     "text": [
      "      name  score  attempts qualify\n",
      "g  Matthew   14.5         1     yes\n",
      "h    Laura    NaN         1      no\n",
      "i    Kevin    8.0         2      no\n",
      "j    Jonas   19.0         1     yes\n",
      "k   Suresh   15.5         1     yes\n"
     ]
    }
   ],
   "source": [
    "#  Xóa bỏ dòng l của df2. In lại tail.\n",
    "df2 = df2.drop(['l'])\n",
    "print(df2.tail())"
   ]
  },
  {
   "cell_type": "code",
   "execution_count": 798,
   "metadata": {},
   "outputs": [
    {
     "name": "stdout",
     "output_type": "stream",
     "text": [
      "        name  score  attempts qualify\n",
      "i      Kevin    8.0         2      no\n",
      "b       Dima    9.0         3      no\n",
      "e      Emily    9.0         2      no\n",
      "a  Anastasia   12.5         1     yes\n",
      "g    Matthew   14.5         1     yes\n",
      "k     Suresh   15.5         1     yes\n",
      "c  Katherine   16.5         2     yes\n",
      "d      James   18.0         3      no\n",
      "j      Jonas   19.0         1     yes\n",
      "f    Michael   20.0         3     yes\n",
      "h      Laura    NaN         1      no\n"
     ]
    }
   ],
   "source": [
    "# Câu 12: Sắp xếp df2 tăng dần theo điểm\n",
    "print(df2.sort_values(by=\"score\"))\n"
   ]
  },
  {
   "cell_type": "code",
   "execution_count": 799,
   "metadata": {},
   "outputs": [
    {
     "name": "stdout",
     "output_type": "stream",
     "text": [
      "        name  score  attempts qualify  result\n",
      "a  Anastasia   12.5         1     yes       1\n",
      "b       Dima    9.0         3      no       0\n",
      "c  Katherine   16.5         2     yes       1\n",
      "d      James   18.0         3      no       1\n",
      "e      Emily    9.0         2      no       0\n",
      "f    Michael   20.0         3     yes       1\n",
      "g    Matthew   14.5         1     yes       1\n",
      "h      Laura    NaN         1      no       0\n",
      "i      Kevin    8.0         2      no       0\n",
      "j      Jonas   19.0         1     yes       1\n",
      "k     Suresh   15.5         1     yes       1\n"
     ]
    }
   ],
   "source": [
    "# Câu 13: Thêm cột result căn cứ dữ liệu của cột 'score', nếu >=10 thì giá trị = 1, ngược lại = 0\n",
    "df2['result'] = df2['score'].map(lambda x: 1 if x > 10 else 0)\n",
    "print(df2)\n"
   ]
  },
  {
   "cell_type": "code",
   "execution_count": 800,
   "metadata": {},
   "outputs": [
    {
     "name": "stdout",
     "output_type": "stream",
     "text": [
      "        name  score  attempts qualify  result\n",
      "a  Anastasia   12.5         1     yes       1\n",
      "b       Dima    9.0         3      no       0\n",
      "c  Katherine   16.5         2     yes       1\n",
      "d      James   18.0         3      no       1\n",
      "e   Samantha    9.0         2      no       0\n",
      "f    Michael   20.0         3     yes       1\n",
      "g    Matthew   14.5         1     yes       1\n",
      "h      Laura    NaN         1      no       0\n",
      "i      Kevin    8.0         2      no       0\n",
      "j      Jonas   19.0         1     yes       1\n",
      "k     Suresh   15.5         1     yes       1\n"
     ]
    }
   ],
   "source": [
    "# Câu 14: Trong df2, thay tên 'Emily' thành 'Samantha'\n",
    "df2 = df2.replace('Emily', 'Samantha')\n",
    "print(df2)"
   ]
  },
  {
   "cell_type": "code",
   "execution_count": 801,
   "metadata": {},
   "outputs": [
    {
     "name": "stdout",
     "output_type": "stream",
     "text": [
      "Name: Anastasia\tScore: 12.5\tResult: Pass\n",
      "Name: Dima\tScore: 9.0\tResult: Fail\n",
      "Name: Katherine\tScore: 16.5\tResult: Pass\n",
      "Name: James\tScore: 18.0\tResult: Pass\n",
      "Name: Samantha\tScore: 9.0\tResult: Fail\n",
      "Name: Michael\tScore: 20.0\tResult: Pass\n",
      "Name: Matthew\tScore: 14.5\tResult: Pass\n",
      "Name: Laura\tScore: nan\tResult: Fail\n",
      "Name: Kevin\tScore: 8.0\tResult: Fail\n",
      "Name: Jonas\tScore: 19.0\tResult: Pass\n",
      "Name: Suresh\tScore: 15.5\tResult: Pass\n"
     ]
    }
   ],
   "source": [
    "# Câu 15: Duyệt df2, in name, score, result: nếu = 1 thì in 'Pass', ngược lại thì in 'Fail'\n",
    "for index, row in df2.iterrows():\n",
    "    print(f\"Name: {row['name']}\\tScore: {row['score']}\\tResult: {'Pass' if row['result'] == 1 else 'Fail'}\")\n",
    "\n"
   ]
  },
  {
   "cell_type": "markdown",
   "metadata": {},
   "source": [
    "<details>\n",
    "  <summary>Nhấn vào đây để xem kết quả !</summary>\n",
    "<pre>Kevin  - Score: 8.0  - Result: Fail\n",
    "Dima  - Score: 9.0  - Result: Fail\n",
    "Samantha  - Score: 9.0  - Result: Fail\n",
    "Anastasia  - Score: 12.5  - Result: Pass\n",
    "Matthew  - Score: 14.5  - Result: Pass\n",
    "Suresh  - Score: 15.5  - Result: Pass\n",
    "Katherine  - Score: 16.5  - Result: Pass\n",
    "James  - Score: 18.0  - Result: Pass\n",
    "Jonas  - Score: 19.0  - Result: Pass\n",
    "Michael  - Score: 20.0  - Result: Pass\n",
    "Laura  - Score: nan  - Result: Fail\n",
    "</pre>\n",
    "\n",
    "</details>"
   ]
  },
  {
   "cell_type": "code",
   "execution_count": null,
   "metadata": {},
   "outputs": [],
   "source": []
  }
 ],
 "metadata": {
  "kernelspec": {
   "display_name": "Python 3",
   "language": "python",
   "name": "python3"
  },
  "language_info": {
   "codemirror_mode": {
    "name": "ipython",
    "version": 3
   },
   "file_extension": ".py",
   "mimetype": "text/x-python",
   "name": "python",
   "nbconvert_exporter": "python",
   "pygments_lexer": "ipython3",
   "version": "3.8.3"
  }
 },
 "nbformat": 4,
 "nbformat_minor": 4
}
