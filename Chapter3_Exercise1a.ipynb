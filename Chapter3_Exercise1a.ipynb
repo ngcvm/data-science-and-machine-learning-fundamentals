{
 "cells": [
  {
   "cell_type": "markdown",
   "metadata": {
    "colab_type": "text",
    "id": "dlvl6kiulffy"
   },
   "source": [
    "# Chapter 3 - Exercise 1a: "
   ]
  },
  {
   "cell_type": "markdown",
   "metadata": {},
   "source": [
    "### Các kiến thức sử dụng trong bài tập:\n",
    "\n",
    "#### Tạo mảng (numpy array):\n",
    "1. Tạo mảng có giá trị trong khoảng từ a đến b - 1: <p style=\"color:blue\">biến_mảng = np.arange(a, b)</p>\n",
    "2. Tạo mảng từ 1 dãy số cho trước: <p style=\"color:blue\">biến_mảng = np.array([dãy số])</p>\n",
    "3. Tạo mảng theo điều kiện từ mảng đã có: <p style=\"color:blue\">biến_mảng_mới = biến_mảng[<điều kiện>]</p>ví dụ: <span style=\"color:blue\">arr_even = arr[arr % 2 == 0]</span>\n",
    "\n",
    "#### Các thao tác trên mảng:\n",
    "Xem số phần tử có trong mảng: <span style=\"color:blue\">biến_mảng.shape</span>\n"
   ]
  },
  {
   "cell_type": "markdown",
   "metadata": {},
   "source": [
    "#### Thực hiện các yêu cầu sau và đối chiếu với kết quả cho trước:"
   ]
  },
  {
   "cell_type": "code",
   "execution_count": 2,
   "metadata": {
    "colab": {},
    "colab_type": "code",
    "id": "gr8DM63nlff1"
   },
   "outputs": [],
   "source": [
    "import numpy as np"
   ]
  },
  {
   "cell_type": "code",
   "execution_count": 7,
   "metadata": {
    "colab": {},
    "colab_type": "code",
    "id": "xBDidl2SmUe2"
   },
   "outputs": [
    {
     "name": "stdout",
     "output_type": "stream",
     "text": [
      "[0 1 2 3 4 5 6 7 8 9]\n",
      "10\n",
      "int64\n"
     ]
    }
   ],
   "source": [
    "# Câu 1: Tạo numpy array có giá trị từ 0-9 và lưu vào biến arr\n",
    "arr1 = np.arange(10)\n",
    "# Hiển thị các phần tử có trong arr\n",
    "print(arr1)\n",
    "# Xem kiểu dữ liệu (type) của arr\n",
    "print(arr1.size)\n",
    "# Xem kích thước (shape) của arr\n",
    "print(arr1.dtype)"
   ]
  },
  {
   "cell_type": "markdown",
   "metadata": {},
   "source": [
    "<details>\n",
    "  <summary>Nhấn vào đây để xem kết quả !</summary>\n",
    "  \n",
    "  <pre>[0 1 2 3 4 5 6 7 8 9]\n",
    "&lt;class 'numpy.ndarray'&gt;\n",
    "(10,)\n",
    "</pre>\n",
    "\n",
    "</details>"
   ]
  },
  {
   "cell_type": "code",
   "execution_count": 8,
   "metadata": {
    "colab": {},
    "colab_type": "code",
    "id": "h1gyIEtolff4"
   },
   "outputs": [
    {
     "name": "stdout",
     "output_type": "stream",
     "text": [
      "[0 2 4 6 8]\n",
      "[1 3 5 7 9]\n"
     ]
    }
   ],
   "source": [
    "# Câu 2: Từ array arr ở câu 1 => tạo arr_odd và arr_even \n",
    "arr1_odd = arr1[np.where(arr1 % 2 == 0)]\n",
    "arr1_even = arr1[np.where(arr1 % 2 != 0)]\n",
    "\n",
    "# Hiển thị các phần tử có trong arr_odd và arr_even\n",
    "print (arr1_odd)\n",
    "print (arr1_even)"
   ]
  },
  {
   "cell_type": "markdown",
   "metadata": {},
   "source": [
    "<details>\n",
    "  <summary>Nhấn vào đây để xem kết quả !</summary>\n",
    "  \n",
    " <pre>Odd array:\n",
    "[1 3 5 7 9]\n",
    "Even array:\n",
    "[0 2 4 6 8]\n",
    "</pre>\n",
    "\n",
    "</details>"
   ]
  },
  {
   "cell_type": "code",
   "execution_count": 10,
   "metadata": {
    "colab": {},
    "colab_type": "code",
    "id": "OL6Y8tdxlff6"
   },
   "outputs": [
    {
     "name": "stdout",
     "output_type": "stream",
     "text": [
      "[  0 100   2 100   4 100   6 100   8 100]\n"
     ]
    }
   ],
   "source": [
    "# Câu 3: Từ array arr ở câu 1 => tạo arr_update_1 với các phần tử chẵn giữ nguyên, các phần tử lẻ thay bằng 100\n",
    "arr_update_1 = np.copy(arr1)\n",
    "arr_update_1[arr1_even] = 100\n",
    "\n",
    "# Hiển thị các phần tử có trong arr_update_1\n",
    "print (arr_update_1)"
   ]
  },
  {
   "cell_type": "markdown",
   "metadata": {},
   "source": [
    "<details>\n",
    "  <summary>Nhấn vào đây để xem kết quả !</summary>\n",
    "  \n",
    " <pre>[  0 100   2 100   4 100   6 100   8 100]\n",
    "</pre>\n",
    "\n",
    "</details>"
   ]
  }
 ],
 "metadata": {
  "colab": {
   "name": "Chapter3_Exercise1.ipynb",
   "provenance": []
  },
  "kernelspec": {
   "display_name": "Python 3",
   "language": "python",
   "name": "python3"
  },
  "language_info": {
   "codemirror_mode": {
    "name": "ipython",
    "version": 3
   },
   "file_extension": ".py",
   "mimetype": "text/x-python",
   "name": "python",
   "nbconvert_exporter": "python",
   "pygments_lexer": "ipython3",
   "version": "3.8.3"
  }
 },
 "nbformat": 4,
 "nbformat_minor": 4
}
