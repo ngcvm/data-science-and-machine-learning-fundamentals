{
 "cells": [
  {
   "cell_type": "markdown",
   "metadata": {},
   "source": [
    "## Câu 1:\n",
    "Cho dữ liệu lưu trong tập tin \"weather.csv\"\n",
    "1. Hãy đọc dữ liệu và lưu vào trong DataFrame 'weather'\n",
    "2. In một số thông tin tổng quát về dữ liệu\n",
    "3. Cho biết số lượng dòng, cột của DataFrame\n",
    "4. Hãy cho biết dữ liệu có chứa các giá trị 'NULL' không?\n",
    "5. Xóa các cột 'WT10', 'WT11', 'WT15', 'WT19'\n",
    "6. In 3 dòng đầu tiền và 3 dòng cuối cùng của DataFrame\n",
    "7. Dùng Pandas vẽ biểu đồ dạng Box của 3 cột 'TMIN', 'TAVG', 'TMAX' và tiêu đề là 'Biểu đồ thời tiết'\n",
    "8. Thêm 1 cột dữ liệu 'TDIFF' là sự chênh lệch dữ liệu 'TMAX' - 'TMIN'\n",
    "9. Dùng Pandas vẽ biểu đồ histogram của dữ liệu 'TDIFF'\n",
    "10. Tạo một DataFrame 'bad_weather' mới từ các cột 'WT01' đến 'WT22'\n",
    "11. Tạo một cột mới 'bad_weather' trên DataFrame 'weather' bằng cách tính tổng theo cột trên DataFrame 'bad_weather'\n",
    "12. Điền các giá trị còn thiếu trên cột 'bad_weather' là 0 và chuyển kiểu dữ liệu của cột là int\n",
    "13. Lưu dữ liệu trong dataframe 'weather' thành tập tin 'weather.xlsx' với sheetname là 'weather'."
   ]
  },
  {
   "cell_type": "markdown",
   "metadata": {},
   "source": [
    "## Câu 2:\n",
    "Cho dữ liệu lưu trong tập tin \"movies.csv\"\n",
    "1. Hãy đọc dữ liệu và lưu vào trong DataFrame 'movies'\n",
    "2. In một số thông tin tổng quát về dữ liệu. In 4 dòng đầu tiên của DataFrame\n",
    "3. Cho biết số lượng dòng, cột của DataFrame \n",
    "4. Hãy cho biết dữ liệu có chứa các giá trị 'NULL' không? \n",
    "5. Đổi tên của các cột dữ liệu thành: 'Film','Genre','CriticRating', 'AudienceRating', 'BudgetMillions', 'Year'"
   ]
  },
  {
   "cell_type": "markdown",
   "metadata": {},
   "source": [
    "### Bài làm\n",
    "#### @Võ Minh Ngọc - LSD2"
   ]
  },
  {
   "cell_type": "markdown",
   "metadata": {},
   "source": [
    "#### Câu 1"
   ]
  },
  {
   "cell_type": "code",
   "execution_count": 5,
   "metadata": {},
   "outputs": [],
   "source": [
    "import numpy as np\n",
    "import pandas as pd"
   ]
  },
  {
   "cell_type": "code",
   "execution_count": 10,
   "metadata": {},
   "outputs": [
    {
     "data": {
      "text/html": [
       "<div>\n",
       "<style scoped>\n",
       "    .dataframe tbody tr th:only-of-type {\n",
       "        vertical-align: middle;\n",
       "    }\n",
       "\n",
       "    .dataframe tbody tr th {\n",
       "        vertical-align: top;\n",
       "    }\n",
       "\n",
       "    .dataframe thead th {\n",
       "        text-align: right;\n",
       "    }\n",
       "</style>\n",
       "<table border=\"1\" class=\"dataframe\">\n",
       "  <thead>\n",
       "    <tr style=\"text-align: right;\">\n",
       "      <th></th>\n",
       "      <th>STATION</th>\n",
       "      <th>DATE</th>\n",
       "      <th>AWND</th>\n",
       "      <th>TAVG</th>\n",
       "      <th>TMAX</th>\n",
       "      <th>TMIN</th>\n",
       "      <th>WT01</th>\n",
       "      <th>WT02</th>\n",
       "      <th>WT03</th>\n",
       "      <th>WT04</th>\n",
       "      <th>...</th>\n",
       "      <th>WT11</th>\n",
       "      <th>WT13</th>\n",
       "      <th>WT14</th>\n",
       "      <th>WT15</th>\n",
       "      <th>WT16</th>\n",
       "      <th>WT17</th>\n",
       "      <th>WT18</th>\n",
       "      <th>WT19</th>\n",
       "      <th>WT21</th>\n",
       "      <th>WT22</th>\n",
       "    </tr>\n",
       "  </thead>\n",
       "  <tbody>\n",
       "    <tr>\n",
       "      <th>0</th>\n",
       "      <td>USC00379423</td>\n",
       "      <td>2005-01-01</td>\n",
       "      <td>NaN</td>\n",
       "      <td>NaN</td>\n",
       "      <td>47.0</td>\n",
       "      <td>28.0</td>\n",
       "      <td>NaN</td>\n",
       "      <td>NaN</td>\n",
       "      <td>NaN</td>\n",
       "      <td>NaN</td>\n",
       "      <td>...</td>\n",
       "      <td>NaN</td>\n",
       "      <td>NaN</td>\n",
       "      <td>NaN</td>\n",
       "      <td>NaN</td>\n",
       "      <td>NaN</td>\n",
       "      <td>NaN</td>\n",
       "      <td>NaN</td>\n",
       "      <td>NaN</td>\n",
       "      <td>NaN</td>\n",
       "      <td>NaN</td>\n",
       "    </tr>\n",
       "    <tr>\n",
       "      <th>1</th>\n",
       "      <td>USC00379423</td>\n",
       "      <td>2005-01-02</td>\n",
       "      <td>NaN</td>\n",
       "      <td>NaN</td>\n",
       "      <td>52.0</td>\n",
       "      <td>24.0</td>\n",
       "      <td>NaN</td>\n",
       "      <td>NaN</td>\n",
       "      <td>NaN</td>\n",
       "      <td>NaN</td>\n",
       "      <td>...</td>\n",
       "      <td>NaN</td>\n",
       "      <td>NaN</td>\n",
       "      <td>NaN</td>\n",
       "      <td>NaN</td>\n",
       "      <td>NaN</td>\n",
       "      <td>NaN</td>\n",
       "      <td>NaN</td>\n",
       "      <td>NaN</td>\n",
       "      <td>NaN</td>\n",
       "      <td>NaN</td>\n",
       "    </tr>\n",
       "    <tr>\n",
       "      <th>2</th>\n",
       "      <td>USC00379423</td>\n",
       "      <td>2005-01-03</td>\n",
       "      <td>NaN</td>\n",
       "      <td>NaN</td>\n",
       "      <td>48.0</td>\n",
       "      <td>27.0</td>\n",
       "      <td>NaN</td>\n",
       "      <td>NaN</td>\n",
       "      <td>NaN</td>\n",
       "      <td>NaN</td>\n",
       "      <td>...</td>\n",
       "      <td>NaN</td>\n",
       "      <td>NaN</td>\n",
       "      <td>NaN</td>\n",
       "      <td>NaN</td>\n",
       "      <td>NaN</td>\n",
       "      <td>NaN</td>\n",
       "      <td>NaN</td>\n",
       "      <td>NaN</td>\n",
       "      <td>NaN</td>\n",
       "      <td>NaN</td>\n",
       "    </tr>\n",
       "    <tr>\n",
       "      <th>3</th>\n",
       "      <td>USC00379423</td>\n",
       "      <td>2005-01-04</td>\n",
       "      <td>NaN</td>\n",
       "      <td>NaN</td>\n",
       "      <td>54.0</td>\n",
       "      <td>40.0</td>\n",
       "      <td>NaN</td>\n",
       "      <td>NaN</td>\n",
       "      <td>NaN</td>\n",
       "      <td>NaN</td>\n",
       "      <td>...</td>\n",
       "      <td>NaN</td>\n",
       "      <td>NaN</td>\n",
       "      <td>NaN</td>\n",
       "      <td>NaN</td>\n",
       "      <td>NaN</td>\n",
       "      <td>NaN</td>\n",
       "      <td>NaN</td>\n",
       "      <td>NaN</td>\n",
       "      <td>NaN</td>\n",
       "      <td>NaN</td>\n",
       "    </tr>\n",
       "    <tr>\n",
       "      <th>4</th>\n",
       "      <td>USC00379423</td>\n",
       "      <td>2005-01-05</td>\n",
       "      <td>NaN</td>\n",
       "      <td>NaN</td>\n",
       "      <td>44.0</td>\n",
       "      <td>31.0</td>\n",
       "      <td>NaN</td>\n",
       "      <td>NaN</td>\n",
       "      <td>NaN</td>\n",
       "      <td>NaN</td>\n",
       "      <td>...</td>\n",
       "      <td>NaN</td>\n",
       "      <td>NaN</td>\n",
       "      <td>NaN</td>\n",
       "      <td>NaN</td>\n",
       "      <td>NaN</td>\n",
       "      <td>NaN</td>\n",
       "      <td>NaN</td>\n",
       "      <td>NaN</td>\n",
       "      <td>NaN</td>\n",
       "      <td>NaN</td>\n",
       "    </tr>\n",
       "  </tbody>\n",
       "</table>\n",
       "<p>5 rows × 26 columns</p>\n",
       "</div>"
      ],
      "text/plain": [
       "       STATION        DATE  AWND  TAVG  TMAX  TMIN  WT01  WT02  WT03  WT04  \\\n",
       "0  USC00379423  2005-01-01   NaN   NaN  47.0  28.0   NaN   NaN   NaN   NaN   \n",
       "1  USC00379423  2005-01-02   NaN   NaN  52.0  24.0   NaN   NaN   NaN   NaN   \n",
       "2  USC00379423  2005-01-03   NaN   NaN  48.0  27.0   NaN   NaN   NaN   NaN   \n",
       "3  USC00379423  2005-01-04   NaN   NaN  54.0  40.0   NaN   NaN   NaN   NaN   \n",
       "4  USC00379423  2005-01-05   NaN   NaN  44.0  31.0   NaN   NaN   NaN   NaN   \n",
       "\n",
       "   ...   WT11  WT13  WT14  WT15  WT16  WT17  WT18  WT19  WT21  WT22  \n",
       "0  ...    NaN   NaN   NaN   NaN   NaN   NaN   NaN   NaN   NaN   NaN  \n",
       "1  ...    NaN   NaN   NaN   NaN   NaN   NaN   NaN   NaN   NaN   NaN  \n",
       "2  ...    NaN   NaN   NaN   NaN   NaN   NaN   NaN   NaN   NaN   NaN  \n",
       "3  ...    NaN   NaN   NaN   NaN   NaN   NaN   NaN   NaN   NaN   NaN  \n",
       "4  ...    NaN   NaN   NaN   NaN   NaN   NaN   NaN   NaN   NaN   NaN  \n",
       "\n",
       "[5 rows x 26 columns]"
      ]
     },
     "execution_count": 10,
     "metadata": {},
     "output_type": "execute_result"
    }
   ],
   "source": [
    "# Câu 1.1: Hãy đọc dữ liệu và lưu vào trong DataFrame 'weather'\n",
    "weather = pd.read_csv('./weather.csv')\n",
    "weather.head()"
   ]
  },
  {
   "cell_type": "code",
   "execution_count": 11,
   "metadata": {},
   "outputs": [
    {
     "name": "stdout",
     "output_type": "stream",
     "text": [
      "<class 'pandas.core.frame.DataFrame'>\n",
      "RangeIndex: 8022 entries, 0 to 8021\n",
      "Data columns (total 26 columns):\n",
      "STATION    8022 non-null object\n",
      "DATE       8022 non-null object\n",
      "AWND       4017 non-null float64\n",
      "TAVG       1217 non-null float64\n",
      "TMAX       8005 non-null float64\n",
      "TMIN       7996 non-null float64\n",
      "WT01       1777 non-null float64\n",
      "WT02       221 non-null float64\n",
      "WT03       227 non-null float64\n",
      "WT04       119 non-null float64\n",
      "WT05       360 non-null float64\n",
      "WT06       25 non-null float64\n",
      "WT07       79 non-null float64\n",
      "WT08       404 non-null float64\n",
      "WT09       69 non-null float64\n",
      "WT10       2 non-null float64\n",
      "WT11       3 non-null float64\n",
      "WT13       1175 non-null float64\n",
      "WT14       575 non-null float64\n",
      "WT15       6 non-null float64\n",
      "WT16       1326 non-null float64\n",
      "WT17       12 non-null float64\n",
      "WT18       345 non-null float64\n",
      "WT19       4 non-null float64\n",
      "WT21       18 non-null float64\n",
      "WT22       32 non-null float64\n",
      "dtypes: float64(24), object(2)\n",
      "memory usage: 1.6+ MB\n"
     ]
    }
   ],
   "source": [
    "# Câu 1.2: In một số thông tin tổng quát về dữ liệu\n",
    "weather.info()"
   ]
  },
  {
   "cell_type": "code",
   "execution_count": 22,
   "metadata": {},
   "outputs": [
    {
     "name": "stdout",
     "output_type": "stream",
     "text": [
      "Number of rows:  8022\n",
      "Number of columns:  26\n"
     ]
    }
   ],
   "source": [
    "# Câu 1.3: Cho biết số lượng dòng, cột của DataFrame\n",
    "wheather_shape = weather.shape\n",
    "print('Number of rows: ', wheather_shape[0])\n",
    "print('Number of columns: ', wheather_shape[1])"
   ]
  },
  {
   "cell_type": "code",
   "execution_count": null,
   "metadata": {},
   "outputs": [],
   "source": [
    "# Câu 1.4: Hãy cho biết dữ liệu có chứa các giá trị 'NULL' không?\n",
    "print('Dữ liệu {} giá trị \"NULL\" ', 'có' )"
   ]
  },
  {
   "cell_type": "code",
   "execution_count": null,
   "metadata": {},
   "outputs": [],
   "source": [
    "# Câu 1.5: Xóa các cột 'WT10', 'WT11', 'WT15', 'WT19'"
   ]
  },
  {
   "cell_type": "code",
   "execution_count": null,
   "metadata": {},
   "outputs": [],
   "source": [
    "# Câu 1.6: In 3 dòng đầu tiền và 3 dòng cuối cùng của DataFrame"
   ]
  },
  {
   "cell_type": "code",
   "execution_count": null,
   "metadata": {},
   "outputs": [],
   "source": [
    "# Câu 1.7: Dùng Pandas vẽ biểu đồ dạng Box của 3 cột 'TMIN', 'TAVG', 'TMAX' và tiêu đề là 'Biểu đồ thời tiết'"
   ]
  },
  {
   "cell_type": "code",
   "execution_count": null,
   "metadata": {},
   "outputs": [],
   "source": [
    "# Câu 1.8: Thêm 1 cột dữ liệu 'TDIFF' là sự chênh lệch dữ liệu 'TMAX' - 'TMIN'"
   ]
  },
  {
   "cell_type": "code",
   "execution_count": null,
   "metadata": {},
   "outputs": [],
   "source": [
    "# Câu 1.9: Dùng Pandas vẽ biểu đồ histogram của dữ liệu 'TDIFF'"
   ]
  },
  {
   "cell_type": "code",
   "execution_count": null,
   "metadata": {},
   "outputs": [],
   "source": [
    "# Câu 1.10: Tạo một DataFrame 'bad_weather' mới từ các cột 'WT01' đến 'WT22'"
   ]
  },
  {
   "cell_type": "code",
   "execution_count": null,
   "metadata": {},
   "outputs": [],
   "source": [
    "# Câu 1.11: Tạo một cột mới 'bad_weather' trên DataFrame 'weather' bằng cách tính tổng theo cột trên DataFrame 'bad_weather'"
   ]
  },
  {
   "cell_type": "code",
   "execution_count": null,
   "metadata": {},
   "outputs": [],
   "source": [
    "# Câu 1.12: Điền các giá trị còn thiếu trên cột 'bad_weather' là 0 và chuyển kiểu dữ liệu của cột là int"
   ]
  },
  {
   "cell_type": "code",
   "execution_count": null,
   "metadata": {},
   "outputs": [],
   "source": [
    "# Câu 1.13: Lưu dữ liệu trong dataframe 'weather' thành tập tin 'weather.xlsx' với sheetname là 'weather'."
   ]
  },
  {
   "cell_type": "markdown",
   "metadata": {},
   "source": [
    "#### Câu 2"
   ]
  },
  {
   "cell_type": "code",
   "execution_count": null,
   "metadata": {},
   "outputs": [],
   "source": [
    "# Câu 2.1: Hãy đọc dữ liệu và lưu vào trong DataFrame 'movies'"
   ]
  },
  {
   "cell_type": "code",
   "execution_count": null,
   "metadata": {},
   "outputs": [],
   "source": [
    "# Câu 2.2: In một số thông tin tổng quát về dữ liệu. In 4 dòng đầu tiên của DataFrame"
   ]
  },
  {
   "cell_type": "code",
   "execution_count": null,
   "metadata": {},
   "outputs": [],
   "source": [
    "# Câu 2.3: Cho biết số lượng dòng, cột của DataFrame"
   ]
  },
  {
   "cell_type": "code",
   "execution_count": null,
   "metadata": {},
   "outputs": [],
   "source": [
    "# Câu 2.4: Hãy cho biết dữ liệu có chứa các giá trị 'NULL' không?"
   ]
  },
  {
   "cell_type": "code",
   "execution_count": null,
   "metadata": {},
   "outputs": [],
   "source": [
    "# Câu 2.5: Đổi tên của các cột dữ liệu thành: 'Film','Genre','CriticRating', 'AudienceRating', 'BudgetMillions', 'Year'"
   ]
  }
 ],
 "metadata": {
  "kernelspec": {
   "display_name": "Python 3",
   "language": "python",
   "name": "python3"
  },
  "language_info": {
   "codemirror_mode": {
    "name": "ipython",
    "version": 3
   },
   "file_extension": ".py",
   "mimetype": "text/x-python",
   "name": "python",
   "nbconvert_exporter": "python",
   "pygments_lexer": "ipython3",
   "version": "3.6.8"
  }
 },
 "nbformat": 4,
 "nbformat_minor": 4
}
