{
 "cells": [
  {
   "cell_type": "markdown",
   "metadata": {},
   "source": [
    "# Excercise 2.1\n",
    "## @packkkk\n",
    "---\n",
    "### My top 5 websites:\n",
    "* Medium [Home Page](https://medium.com/)\n",
    "* Reddit [Home Page](https://reddit.com/)\n",
    "* BleepingComputers [Home Page](https://www.bleepingcomputer.com/)\n",
    "* Udemy [Home Page](https://www.udemy.com/)\n",
    "* Github [Home Page](https://github.com/)\n",
    "\n",
    "1. Medium [Home Page](https://medium.com/)\n",
    "2. Reddit [Home Page](https://reddit.com/)\n",
    "3. BleepingComputers [Home Page](https://www.bleepingcomputer.com/)\n",
    "4. Udemy [Home Page](https://www.udemy.com/)\n",
    "5. Github [Home Page](https://github.com/)"
   ]
  },
  {
   "cell_type": "markdown",
   "metadata": {},
   "source": [
    "* List\n",
    "* List\n",
    "* List"
   ]
  },
  {
   "cell_type": "markdown",
   "metadata": {},
   "source": [
    "1. one\n",
    "2. two\n",
    "3. three"
   ]
  },
  {
   "cell_type": "markdown",
   "metadata": {},
   "source": [
    "> Blockquote"
   ]
  },
  {
   "cell_type": "markdown",
   "metadata": {},
   "source": [
    "- One\n",
    "- Two \n",
    "- Three"
   ]
  },
  {
   "cell_type": "markdown",
   "metadata": {},
   "source": [
    "# Excercise 2.2\n",
    "## @packkkk\n",
    "---\n",
    "### Tiểu sử Blaise Pascal:\n",
    "\n",
    "***Blaise Pascal*** (tiếng Pháp: ***[blɛz paskal]***; **19 tháng 6 năm 1623 – 19 tháng 8 năm 1662**) (tên khác: Lee Central Paint) là nhà toán học, vật lý, nhà phát minh, tác gia, và triết gia Cơ Đốc người Pháp. Là cậu bé thần đồng, Pascal tiếp nhận nền giáo dục từ cha, một quan chức thuế vụ tại Rouen, trong khi mẹ ông mất sớm. Nghiên cứu đầu tay của Pascal là trong lĩnh vực tự nhiên và khoa học ứng dụng, là những đóng góp quan trọng cho nghiên cứu về chất lưu, và làm sáng tỏ những khái niệm về áp suất và chân không bằng cách khái quát hóa công trình của Evangelista Torricelli. Pascal cũng viết để bảo vệ phương pháp khoa học.\n",
    "\n",
    "Năm 1642, khi còn là một thiếu niên, Pascal bắt tay vào một số nghiên cứu tiên phong về máy tính. Sau ba năm nỗ lực với năm mươi bản mẫu, cậu đã phát minh máy tính cơ học, chế tạo 20 máy tính loại này (gọi là máy tính Pascal, về sau gọi là Pascaline) trong vòng mười năm. Pascal là một nhà toán học tài danh, giúp kiến tạo hai lĩnh vực nghiên cứu quan trọng: viết một chuyên luận xuất sắc về hình học xạ ảnh khi mới 16 tuổi, rồi trao đổi với Pierre de Fermat về lý thuyết xác suất, có ảnh hưởng sâu đậm trên tiến trình phát triển kinh tế học và khoa học xã hội đương đại. Tiếp bước Galileo và Torricelli, năm 1646, ông phản bác những người theo Aristotle chủ trương thiên nhiên không chấp nhận khoảng không. Kết quả nghiên cứu của Pascal đã gây ra nhiều tranh luận trước khi được chấp nhận.\n",
    "\n",
    "Năm 1646, Pascal và em gái Jacqueline gia nhập một phong trào tôn giáo phát triển bên trong Công giáo mà những người gièm pha gọi là thuyết Jansen. Cha ông mất năm 1651. Tiếp sau một trải nghiệm tâm linh xảy ra cuối năm 1654, ông trải qua \"sự qui đạo thứ nhì\", từ bỏ nghiên cứu khoa học, và hiến mình cho triết học và thần học. Hai tác phẩm nổi tiếng nhất của Pascal đánh dấu giai đoạn này: Lettres provinciales (Những lá thư tỉnh lẻ) và Pensées (Suy tưởng), tác phẩm đầu được ấn hành trong bối cảnh tranh chấp giữa nhóm Jansen với Dòng Tên. Cũng trong năm này, ông viết một luận văn quan trọng về tam giác số học.\n",
    "\n",
    "Pascal có thể chất yếu đuối, nhất là từ sau 18 tuổi đến khi qua đời, chỉ hai tháng trước khi tròn 39 tuổi.\n",
    "\n",
    "***Nguồn [Wikipedia](https://vi.wikipedia.org/wiki/Blaise_Pascal)***"
   ]
  },
  {
   "cell_type": "markdown",
   "metadata": {},
   "source": [
    "# Excercise 2.3\n",
    "## @packkkk\n",
    "---\n",
    "### Top 5 Favourite Courses:\n",
    "\n",
    "| Number | Name | Length |\n",
    "| :---: | :---: | :---: |\n",
    "| 1 | Nhap mon lap trinh | 108 hours |\n",
    "| 2 | Cau truc du lieu va giai thuat | 108 hours |\n",
    "| 3 | Nhap mon mang can ban | 108 hours |\n",
    "| 4 | An toan kien truc he thong | 108 hours |\n",
    "| 5 | An toan mang can ban/nang cao | 108 hours |"
   ]
  },
  {
   "cell_type": "markdown",
   "metadata": {},
   "source": [
    "# Excercise 2.4\n",
    "## @packkkk\n",
    "---\n",
    "### Formulas:\n",
    "\n",
    "1. Định lý hàm số cosin:\n",
    "\n",
    "    $ a^2 = b^2 + c^2 - 2bc\\cos{A} $\n",
    "    \n",
    "    $ b^2 = a^2 + c^2 - 2ac\\cos{B} $\n",
    "    \n",
    "    $ c^2 = a^2 + b^2 - 2ab\\cos{C} $\n",
    "\n",
    "2. Định lý hàm số sin:\n",
    "\n",
    "    $ \\frac{a}{\\sin{A}} = \\frac{b}{\\sin{B}} = \\frac{c}{\\sin{C}} = 2R $\n",
    "\n",
    "3. Công thức độ dài trung tuyến:\n",
    "\n",
    "    $ m_a = \\sqrt{\\frac{b^2 + c^2}{2} - \\frac{a^2}{4}} $ ; $ m_b = \\sqrt{\\frac{a^2 + c^2}{2} - \\frac{b^2}{4}} $ ; $ m_c = \\sqrt{\\frac{a^2 + b^2}{2} - \\frac{c^2}{4}} $\n",
    "\n",
    "4. Công thức biến đổi căn thức:\n",
    "    \n",
    "    $ \\sqrt{A^2} = |a| $\n",
    "\n",
    "5. Gradient Tree Boosting Algorithm:\n",
    "\n",
    "    * Initialize model with a constant value\n",
    "    $f_0(x) = arg min_x\\sum_{i=1}^{N} L(y_i,y)$"
   ]
  },
  {
   "cell_type": "code",
   "execution_count": 5,
   "metadata": {},
   "outputs": [
    {
     "name": "stdout",
     "output_type": "stream",
     "text": [
      "[1 2 3]\n",
      "<class 'numpy.ndarray'>\n"
     ]
    }
   ],
   "source": [
    "import numpy as np\n",
    "array_1 = np.array([1,2,3])\n",
    "print(array_1)\n",
    "print(type(array_1))"
   ]
  },
  {
   "cell_type": "code",
   "execution_count": 6,
   "metadata": {},
   "outputs": [
    {
     "data": {
      "text/plain": [
       "array([1., 1., 1., 1.])"
      ]
     },
     "execution_count": 6,
     "metadata": {},
     "output_type": "execute_result"
    }
   ],
   "source": [
    "np.ones(4)"
   ]
  },
  {
   "cell_type": "code",
   "execution_count": 9,
   "metadata": {},
   "outputs": [
    {
     "data": {
      "text/plain": [
       "array([0, 0, 0, 0, 0])"
      ]
     },
     "execution_count": 9,
     "metadata": {},
     "output_type": "execute_result"
    }
   ],
   "source": [
    "np.zeros((5,), dtype=np.int)"
   ]
  },
  {
   "cell_type": "code",
   "execution_count": 10,
   "metadata": {},
   "outputs": [
    {
     "data": {
      "text/plain": [
       "array([1, 2, 3])"
      ]
     },
     "execution_count": 10,
     "metadata": {},
     "output_type": "execute_result"
    }
   ],
   "source": [
    "np.asarray((1,2,3))"
   ]
  },
  {
   "cell_type": "code",
   "execution_count": 11,
   "metadata": {},
   "outputs": [
    {
     "name": "stdout",
     "output_type": "stream",
     "text": [
      "[10. 11. 12. 13. 14. 15. 16. 17. 18. 19. 20.]\n"
     ]
    }
   ],
   "source": [
    "mang_2=np.arange(10, 20.2)\n",
    "print(mang_2)"
   ]
  },
  {
   "cell_type": "code",
   "execution_count": 12,
   "metadata": {},
   "outputs": [
    {
     "name": "stdout",
     "output_type": "stream",
     "text": [
      "[10.  12.5 15.  17.5 20. ]\n",
      "[10. 12. 14. 16. 18.]\n"
     ]
    }
   ],
   "source": [
    "mang_3 = np.linspace(10, 20, 5)\n",
    "print(mang_3)\n",
    "mang_4 = np.linspace(10, 20, 5, endpoint = False)\n",
    "print(mang_4)"
   ]
  },
  {
   "cell_type": "code",
   "execution_count": 13,
   "metadata": {},
   "outputs": [
    {
     "name": "stdout",
     "output_type": "stream",
     "text": [
      "11\n"
     ]
    }
   ],
   "source": [
    "print(mang_2.shape[0])"
   ]
  },
  {
   "cell_type": "code",
   "execution_count": 14,
   "metadata": {},
   "outputs": [
    {
     "name": "stdout",
     "output_type": "stream",
     "text": [
      "[ 10. 250.  12.  13.  14.  15.  16.  17.  18.  19.  20.]\n"
     ]
    }
   ],
   "source": [
    "mang_2[1] = 250\n",
    "print(mang_2)"
   ]
  },
  {
   "cell_type": "code",
   "execution_count": 20,
   "metadata": {},
   "outputs": [
    {
     "name": "stdout",
     "output_type": "stream",
     "text": [
      "[ 0  1  2  3  4  5  6  7  8  9 10 11 12 13 14 15 16 17 18 19 20 21 22 23\n",
      " 24]\n",
      "[29 45 24 41 46  3 13 27  7 34  1  1 45 22 35 27  7 21 38  3 31 40 33 25\n",
      " 16 26 26  2 38 38 38  2 26 11 17 43 26 43 38 45 13 20  3 29 13 47 22 41\n",
      " 20  8  7 26 37 37 25 22 44 49 28 11 15  5 22 15 10  2 38 28  4 44 12 39\n",
      " 41 43 25  8 23 19 10  0 38  8 39  9  8 24 10 49  0 19 46 26 25  6 22 45\n",
      " 38 17 31 17]\n"
     ]
    }
   ],
   "source": [
    "arr = np.arange(25)\n",
    "ranarr = np.random.randint(0, 50, 100)\n",
    "print (arr)\n",
    "print (ranarr)"
   ]
  },
  {
   "cell_type": "code",
   "execution_count": 21,
   "metadata": {},
   "outputs": [
    {
     "data": {
      "text/plain": [
       "array([[ 0,  1,  2,  3,  4],\n",
       "       [ 5,  6,  7,  8,  9],\n",
       "       [10, 11, 12, 13, 14],\n",
       "       [15, 16, 17, 18, 19],\n",
       "       [20, 21, 22, 23, 24]])"
      ]
     },
     "execution_count": 21,
     "metadata": {},
     "output_type": "execute_result"
    }
   ],
   "source": [
    "arr.reshape(5,5)"
   ]
  },
  {
   "cell_type": "code",
   "execution_count": 22,
   "metadata": {},
   "outputs": [
    {
     "data": {
      "text/plain": [
       "49"
      ]
     },
     "execution_count": 22,
     "metadata": {},
     "output_type": "execute_result"
    }
   ],
   "source": [
    "ranarr.max()"
   ]
  },
  {
   "cell_type": "code",
   "execution_count": 23,
   "metadata": {},
   "outputs": [
    {
     "data": {
      "text/plain": [
       "0"
      ]
     },
     "execution_count": 23,
     "metadata": {},
     "output_type": "execute_result"
    }
   ],
   "source": [
    "ranarr.min()"
   ]
  },
  {
   "cell_type": "code",
   "execution_count": 24,
   "metadata": {},
   "outputs": [
    {
     "data": {
      "text/plain": [
       "57"
      ]
     },
     "execution_count": 24,
     "metadata": {},
     "output_type": "execute_result"
    }
   ],
   "source": [
    "ranarr.argmax()"
   ]
  },
  {
   "cell_type": "code",
   "execution_count": 25,
   "metadata": {},
   "outputs": [
    {
     "data": {
      "text/plain": [
       "79"
      ]
     },
     "execution_count": 25,
     "metadata": {},
     "output_type": "execute_result"
    }
   ],
   "source": [
    "ranarr.argmin()"
   ]
  },
  {
   "cell_type": "code",
   "execution_count": 27,
   "metadata": {},
   "outputs": [
    {
     "data": {
      "text/plain": [
       "(25,)"
      ]
     },
     "execution_count": 27,
     "metadata": {},
     "output_type": "execute_result"
    }
   ],
   "source": [
    "arr.shape"
   ]
  },
  {
   "cell_type": "code",
   "execution_count": 28,
   "metadata": {},
   "outputs": [
    {
     "data": {
      "text/plain": [
       "(5, 5)"
      ]
     },
     "execution_count": 28,
     "metadata": {},
     "output_type": "execute_result"
    }
   ],
   "source": [
    "arr = arr.reshape(5,5)\n",
    "arr.shape"
   ]
  },
  {
   "cell_type": "code",
   "execution_count": 29,
   "metadata": {},
   "outputs": [
    {
     "data": {
      "text/plain": [
       "dtype('int64')"
      ]
     },
     "execution_count": 29,
     "metadata": {},
     "output_type": "execute_result"
    }
   ],
   "source": [
    "arr.dtype"
   ]
  },
  {
   "cell_type": "code",
   "execution_count": 30,
   "metadata": {},
   "outputs": [
    {
     "name": "stdout",
     "output_type": "stream",
     "text": [
      "[0 1 2 3 4 5 6 7 8 9]\n",
      "[3 5 7]\n",
      "5\n"
     ]
    }
   ],
   "source": [
    "mang_5 = np.arange(10)\n",
    "print(mang_5)\n",
    "s = slice(3, 8, 2)\n",
    "print(mang_5[s])\n",
    "print(mang_5[s][1])"
   ]
  },
  {
   "cell_type": "code",
   "execution_count": 35,
   "metadata": {},
   "outputs": [
    {
     "data": {
      "text/plain": [
       "array(['0', '1', '2', '3', '4', '5', '6', '7', '8', '9', 'gi', 'gi', 'hi'],\n",
       "      dtype='<U21')"
      ]
     },
     "execution_count": 35,
     "metadata": {},
     "output_type": "execute_result"
    }
   ],
   "source": [
    "mang_5 = np.append(mang_5, \"hi\")\n",
    "mang_5"
   ]
  },
  {
   "cell_type": "code",
   "execution_count": null,
   "metadata": {},
   "outputs": [],
   "source": []
  }
 ],
 "metadata": {
  "kernelspec": {
   "display_name": "Python 3",
   "language": "python",
   "name": "python3"
  },
  "language_info": {
   "codemirror_mode": {
    "name": "ipython",
    "version": 3
   },
   "file_extension": ".py",
   "mimetype": "text/x-python",
   "name": "python",
   "nbconvert_exporter": "python",
   "pygments_lexer": "ipython3",
   "version": "3.8.3"
  }
 },
 "nbformat": 4,
 "nbformat_minor": 4
}
