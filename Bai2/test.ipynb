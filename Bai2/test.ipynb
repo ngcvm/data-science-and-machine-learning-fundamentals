{
 "cells": [
  {
   "cell_type": "markdown",
   "metadata": {},
   "source": [
    "# Excercise 2.1\n",
    "## @packkkk\n",
    "---\n",
    "### My top 5 websites:\n",
    "* Medium [Home Page](https://medium.com/)\n",
    "* Reddit [Home Page](https://reddit.com/)\n",
    "* BleepingComputers [Home Page](https://www.bleepingcomputer.com/)\n",
    "* Udemy [Home Page](https://www.udemy.com/)\n",
    "* Github [Home Page](https://github.com/)"
   ]
  },
  {
   "cell_type": "markdown",
   "metadata": {},
   "source": [
    "* List\n",
    "* List\n",
    "* List"
   ]
  },
  {
   "cell_type": "markdown",
   "metadata": {},
   "source": [
    "1. one\n",
    "2. two\n",
    "3. three"
   ]
  },
  {
   "cell_type": "markdown",
   "metadata": {},
   "source": [
    "> Blockquote"
   ]
  },
  {
   "cell_type": "markdown",
   "metadata": {},
   "source": [
    "- One\n",
    "- Two \n",
    "- Three"
   ]
  },
  {
   "cell_type": "markdown",
   "metadata": {},
   "source": [
    "# Excercise 2.2\n",
    "## @packkkk\n",
    "---\n",
    "### Tiểu sử Blaise Pascal:\n",
    "\n",
    "***Blaise Pascal*** (tiếng Pháp: ***[blɛz paskal]***; **19 tháng 6 năm 1623 – 19 tháng 8 năm 1662**) (tên khác: Lee Central Paint) là nhà toán học, vật lý, nhà phát minh, tác gia, và triết gia Cơ Đốc người Pháp. Là cậu bé thần đồng, Pascal tiếp nhận nền giáo dục từ cha, một quan chức thuế vụ tại Rouen, trong khi mẹ ông mất sớm. Nghiên cứu đầu tay của Pascal là trong lĩnh vực tự nhiên và khoa học ứng dụng, là những đóng góp quan trọng cho nghiên cứu về chất lưu, và làm sáng tỏ những khái niệm về áp suất và chân không bằng cách khái quát hóa công trình của Evangelista Torricelli. Pascal cũng viết để bảo vệ phương pháp khoa học.\n",
    "\n",
    "Năm 1642, khi còn là một thiếu niên, Pascal bắt tay vào một số nghiên cứu tiên phong về máy tính. Sau ba năm nỗ lực với năm mươi bản mẫu, cậu đã phát minh máy tính cơ học, chế tạo 20 máy tính loại này (gọi là máy tính Pascal, về sau gọi là Pascaline) trong vòng mười năm. Pascal là một nhà toán học tài danh, giúp kiến tạo hai lĩnh vực nghiên cứu quan trọng: viết một chuyên luận xuất sắc về hình học xạ ảnh khi mới 16 tuổi, rồi trao đổi với Pierre de Fermat về lý thuyết xác suất, có ảnh hưởng sâu đậm trên tiến trình phát triển kinh tế học và khoa học xã hội đương đại. Tiếp bước Galileo và Torricelli, năm 1646, ông phản bác những người theo Aristotle chủ trương thiên nhiên không chấp nhận khoảng không. Kết quả nghiên cứu của Pascal đã gây ra nhiều tranh luận trước khi được chấp nhận.\n",
    "\n",
    "Năm 1646, Pascal và em gái Jacqueline gia nhập một phong trào tôn giáo phát triển bên trong Công giáo mà những người gièm pha gọi là thuyết Jansen. Cha ông mất năm 1651. Tiếp sau một trải nghiệm tâm linh xảy ra cuối năm 1654, ông trải qua \"sự qui đạo thứ nhì\", từ bỏ nghiên cứu khoa học, và hiến mình cho triết học và thần học. Hai tác phẩm nổi tiếng nhất của Pascal đánh dấu giai đoạn này: Lettres provinciales (Những lá thư tỉnh lẻ) và Pensées (Suy tưởng), tác phẩm đầu được ấn hành trong bối cảnh tranh chấp giữa nhóm Jansen với Dòng Tên. Cũng trong năm này, ông viết một luận văn quan trọng về tam giác số học.\n",
    "\n",
    "Pascal có thể chất yếu đuối, nhất là từ sau 18 tuổi đến khi qua đời, chỉ hai tháng trước khi tròn 39 tuổi.\n",
    "\n",
    "***Nguồn [Wikipedia](https://vi.wikipedia.org/wiki/Blaise_Pascal)***"
   ]
  },
  {
   "cell_type": "markdown",
   "metadata": {},
   "source": [
    "# Excercise 2.3\n",
    "## @packkkk\n",
    "---\n",
    "### Top 5 Favourite Courses:\n",
    "\n",
    "| Number | Name | Length |\n",
    "| :---: | :---: | :---: |\n",
    "| 1 | Nhap mon lap trinh | 108 hours |\n",
    "| 2 | Cau truc du lieu va giai thuat | 108 hours |\n",
    "| 3 | Nhap mon mang can ban | 108 hours |\n",
    "| 4 | An toan kien truc he thong | 108 hours |\n",
    "| 5 | An toan mang can ban/nang cao | 108 hours |"
   ]
  },
  {
   "cell_type": "markdown",
   "metadata": {},
   "source": [
    "# Excercise 2.4\n",
    "## @packkkk\n",
    "---\n",
    "### Formulas:\n",
    "\n",
    "1. Định lý hàm số cosin:\n",
    "\n",
    "    $ a^2 = b^2 + c^2 - 2bc\\cos{A} $\n",
    "    \n",
    "    $ b^2 = a^2 + c^2 - 2ac\\cos{B} $\n",
    "    \n",
    "    $ c^2 = a^2 + b^2 - 2ab\\cos{C} $\n",
    "\n",
    "2. Định lý hàm số sin:\n",
    "\n",
    "    $ \\frac{a}{\\sin{A}} = \\frac{b}{\\sin{B}} = \\frac{c}{\\sin{C}} = 2R $\n",
    "\n",
    "3. Công thức độ dài trung tuyến:\n",
    "\n",
    "    $ m_a = \\sqrt{\\frac{b^2 + c^2}{2} - \\frac{a^2}{4}} $ ; $ m_b = \\sqrt{\\frac{a^2 + c^2}{2} - \\frac{b^2}{4}} $ ; $ m_c = \\sqrt{\\frac{a^2 + b^2}{2} - \\frac{c^2}{4}} $\n",
    "\n",
    "4. Công thức biến đổi căn thức:\n",
    "    \n",
    "    $ \\sqrt{A^2} = |a| $\n",
    "\n",
    "5. Gradient Tree Boosting Algorithm:\n",
    "\n",
    "    * Initialize model with a constant value\n",
    "    $f_0(x) = arg min_x\\sum_{i=1}^{N} L(y_i,y)$"
   ]
  },
  {
   "cell_type": "code",
   "execution_count": null,
   "metadata": {},
   "outputs": [],
   "source": []
  }
 ],
 "metadata": {
  "kernelspec": {
   "display_name": "Python 3",
   "language": "python",
   "name": "python3"
  },
  "language_info": {
   "codemirror_mode": {
    "name": "ipython",
    "version": 3
   },
   "file_extension": ".py",
   "mimetype": "text/x-python",
   "name": "python",
   "nbconvert_exporter": "python",
   "pygments_lexer": "ipython3",
   "version": "3.8.3"
  }
 },
 "nbformat": 4,
 "nbformat_minor": 4
}
