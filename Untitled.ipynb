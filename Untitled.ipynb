{
 "cells": [
  {
   "cell_type": "code",
   "execution_count": 12,
   "metadata": {},
   "outputs": [
    {
     "name": "stdout",
     "output_type": "stream",
     "text": [
      "['Hôm', 'qua', 'qua', 'nói', 'qua', 'mà', 'qua', 'không', 'qua']\n"
     ]
    }
   ],
   "source": [
    "sentence = 'Hôm qua qua nói qua mà qua không qua'\n",
    "sentence_arr = sentence.split(' ')\n",
    "print(sentence_arr)"
   ]
  },
  {
   "cell_type": "code",
   "execution_count": 13,
   "metadata": {},
   "outputs": [
    {
     "name": "stdout",
     "output_type": "stream",
     "text": [
      "Hôm\t:\t1\n",
      "qua\t:\t5\n",
      "nói\t:\t1\n",
      "mà\t:\t1\n",
      "không\t:\t1\n"
     ]
    }
   ],
   "source": [
    "temp = []\n",
    "for i in sentence_arr:\n",
    "    if i not in temp:\n",
    "        temp.append(i)\n",
    "        print(f'{i}\\t:\\t{sentence.count(i)}')"
   ]
  },
  {
   "cell_type": "code",
   "execution_count": null,
   "metadata": {},
   "outputs": [],
   "source": []
  }
 ],
 "metadata": {
  "kernelspec": {
   "display_name": "Python 3",
   "language": "python",
   "name": "python3"
  },
  "language_info": {
   "codemirror_mode": {
    "name": "ipython",
    "version": 3
   },
   "file_extension": ".py",
   "mimetype": "text/x-python",
   "name": "python",
   "nbconvert_exporter": "python",
   "pygments_lexer": "ipython3",
   "version": "3.6.8"
  }
 },
 "nbformat": 4,
 "nbformat_minor": 4
}
